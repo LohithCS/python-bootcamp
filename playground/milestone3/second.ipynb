{
 "cells": [
  {
   "cell_type": "code",
   "execution_count": 1,
   "metadata": {},
   "outputs": [
    {
     "data": {
      "text/plain": [
       "'C:\\\\Users\\\\LCI1KOR\\\\Documents'"
      ]
     },
     "execution_count": 1,
     "metadata": {},
     "output_type": "execute_result"
    }
   ],
   "source": [
    "pwd"
   ]
  },
  {
   "cell_type": "markdown",
   "metadata": {},
   "source": [
    "# Find e to the Nth Digit"
   ]
  },
  {
   "cell_type": "code",
   "execution_count": 31,
   "metadata": {},
   "outputs": [
    {
     "name": "stdout",
     "output_type": "stream",
     "text": [
      "enter the num of digits would you like:45\n",
      "2.718281828459045235360287471352662497757247095\n"
     ]
    }
   ],
   "source": [
    "import decimal\n",
    "from math import factorial\n",
    "from decimal import getcontext\n",
    "from decimal import Decimal\n",
    "\n",
    "\n",
    "\n",
    "\n",
    "num_digit = input(\"enter the num of digits would you like:\")\n",
    "n = int(num_digit)\n",
    "\n",
    "getcontext().prec = n+1\n",
    "\n",
    "def calc_e(n):\n",
    "    \n",
    "    num= Decimal(0)\n",
    "    deno = Decimal(0)\n",
    "    e = Decimal(0)\n",
    "    '''\n",
    "    Brothers' Formulae\n",
    "\n",
    "    Recently, new formulae have been developed by Brothers (2004) which make the calculation of e very efficient.\n",
    "\n",
    "    e=∑n=0∞2n+2(2n+1)!\\displaystyle{e}={\\sum_{{{n}={0}}}^{\\infty}}\\frac{{{2}{n}+{2}}}{{{\\left({2}{n}+{1}\\right)}!}}e=n=0∑∞​(2n+1)!2n+2​\n",
    "\n",
    "    We only need 6 steps for 9 decimal place accuracy:\n",
    "\n",
    "    e=∑n=062n+2(2n+1)!=\\displaystyle{e}={\\sum_{{{n}={0}}}^{{6}}}\\frac{{{2}{n}+{2}}}{{{\\left({2}{n}+{1}\\right)}!}}=e=n=0∑6​(2n+1)!2n+2​= 2.718281828\\displaystyle{2.718281828}2.718281828\n",
    " \n",
    "    '''\n",
    "    for i in range(0,n+1):\n",
    "        num = (2*i+2)\n",
    "        deno = factorial(2*i+1)\n",
    "        e+= Decimal(num)/Decimal(deno)\n",
    "    return round(e,n)\n",
    "print(str(calc_e(n)))"
   ]
  },
  {
   "cell_type": "code",
   "execution_count": 33,
   "metadata": {},
   "outputs": [
    {
     "name": "stdout",
     "output_type": "stream",
     "text": [
      "Please type number between 0-1000: 45\n",
      "2.71828182845904523536028747135266249775724709\n"
     ]
    }
   ],
   "source": [
    "# https://github.com/microice333/Python-projects/blob/master/n_digit_e.py\n",
    "# find e to nth digit by brothers' formulae: http://www.intmath.com/exponential-logarithmic-functions/calculating-e.php\n",
    "import decimal\n",
    "\n",
    "\n",
    "def factorial(n):\n",
    "    factorials = [1]\n",
    "    for i in range(1, n + 1):\n",
    "        factorials.append(factorials[i - 1] * i)\n",
    "    return factorials\n",
    "\n",
    "\n",
    "def compute_e(n):\n",
    "    decimal.getcontext().prec = n + 1\n",
    "    e = 2\n",
    "    factorials = factorial(2 * n + 1)\n",
    "    for i in range(1, n + 1):\n",
    "        counter = 2 * i + 2\n",
    "        denominator = factorials[2 * i + 1]\n",
    "        e += decimal.Decimal(counter)/decimal.Decimal( denominator)\n",
    "    return e\n",
    "\n",
    "\n",
    "while True:\n",
    "    n = int(input(\"Please type number between 0-1000: \"))\n",
    "    if n >= 0 and n <= 1000:\n",
    "        break\n",
    "\n",
    "print(str(compute_e(n))[:n+1])\n"
   ]
  },
  {
   "cell_type": "code",
   "execution_count": 22,
   "metadata": {},
   "outputs": [
    {
     "name": "stdout",
     "output_type": "stream",
     "text": [
      "2.718281828459045090795598298427648842334747314\n"
     ]
    }
   ],
   "source": [
    "from math import e\n",
    "print('%.45f' %e)"
   ]
  },
  {
   "cell_type": "code",
   "execution_count": null,
   "metadata": {},
   "outputs": [],
   "source": []
  },
  {
   "cell_type": "markdown",
   "metadata": {},
   "source": [
    "# Fibonacci Sequence "
   ]
  },
  {
   "cell_type": "code",
   "execution_count": 2,
   "metadata": {},
   "outputs": [
    {
     "name": "stdout",
     "output_type": "stream",
     "text": [
      "enter the num of terms of fib series:10\n",
      "0 1 1 2 3 5 8 13 21 34 "
     ]
    }
   ],
   "source": [
    "def fibonacci(num_terms):\n",
    "    count =0\n",
    "    a =0\n",
    "    b =1\n",
    "    while count<num_terms:\n",
    "        if count==0:\n",
    "            print(a,end=\" \")\n",
    "        else:\n",
    "            sum = a+b\n",
    "            a = b\n",
    "            b = sum\n",
    "            print(a,end=\" \")\n",
    "        count+=1\n",
    "\n",
    "\n",
    "n = int(input(\"enter the num of terms of fib series:\"))\n",
    "if n>0:\n",
    "    fibonacci(n)\n",
    "else:\n",
    "    print(\"please enter n >0\")\n",
    "    "
   ]
  },
  {
   "cell_type": "code",
   "execution_count": 3,
   "metadata": {},
   "outputs": [
    {
     "ename": "NameError",
     "evalue": "name 'count' is not defined",
     "output_type": "error",
     "traceback": [
      "\u001b[1;31m---------------------------------------------------------------------------\u001b[0m",
      "\u001b[1;31mNameError\u001b[0m                                 Traceback (most recent call last)",
      "\u001b[1;32m<ipython-input-3-26780ddf2751>\u001b[0m in \u001b[0;36m<module>\u001b[1;34m\u001b[0m\n\u001b[1;32m----> 1\u001b[1;33m \u001b[0mcount\u001b[0m\u001b[1;33m\u001b[0m\u001b[1;33m\u001b[0m\u001b[0m\n\u001b[0m",
      "\u001b[1;31mNameError\u001b[0m: name 'count' is not defined"
     ]
    }
   ],
   "source": [
    "count"
   ]
  },
  {
   "cell_type": "code",
   "execution_count": 4,
   "metadata": {},
   "outputs": [
    {
     "data": {
      "text/plain": [
       "[1, 2, 5, 10, 11, 22, 55]"
      ]
     },
     "execution_count": 4,
     "metadata": {},
     "output_type": "execute_result"
    }
   ],
   "source": [
    " [x for x in range(1,110) if not 110%x]"
   ]
  },
  {
   "cell_type": "code",
   "execution_count": 5,
   "metadata": {},
   "outputs": [
    {
     "data": {
      "text/plain": [
       "0"
      ]
     },
     "execution_count": 5,
     "metadata": {},
     "output_type": "execute_result"
    }
   ],
   "source": [
    "110%5"
   ]
  },
  {
   "cell_type": "code",
   "execution_count": 68,
   "metadata": {},
   "outputs": [
    {
     "name": "stdout",
     "output_type": "stream",
     "text": [
      "Welcome to the Prime Factorizer.. Enter the numbers in the prompt or enter 'quit' to exit\n",
      ">>>198\n",
      "2*3*3*11\n",
      ">>>quit\n"
     ]
    }
   ],
   "source": [
    "factors = lambda n: [x for x in range(1,n+1) if n%x==0]\n",
    "is_prime = lambda n: len(factors(n))==2\n",
    "primefactors = lambda n: list(filter(is_prime ,factors(n)))\n",
    "\n",
    "def primeFactorize(n):\n",
    "\tn = int(n)\n",
    "\tf = primefactors(n)\n",
    "\tif is_prime(n):\n",
    "\t\treturn str(n)\n",
    "\telse:\n",
    "\t\treturn str(f[0])+ \"*\"+primeFactorize(n/f[0])\n",
    "\n",
    "if __name__=='__main__':\n",
    "\tprint (\"Welcome to the Prime Factorizer.. Enter the numbers in the prompt or enter 'quit' to exit\")\n",
    "\tnum=0;\n",
    "\t\n",
    "\twhile True:\n",
    "\t\tif num:\n",
    "\t\t\tprint(primeFactorize(num))\n",
    "\t\tprint(\">>>\",end='')\n",
    "\t\tnum=input()\n",
    "\t\tif num==\"quit\":\n",
    "\t\t\tbreak\n",
    "\t\t"
   ]
  },
  {
   "cell_type": "code",
   "execution_count": 8,
   "metadata": {},
   "outputs": [
    {
     "data": {
      "text/plain": [
       "[1, 2, 3, 4, 6, 12, 19, 38, 57, 76, 114, 228]"
      ]
     },
     "execution_count": 8,
     "metadata": {},
     "output_type": "execute_result"
    }
   ],
   "source": [
    "factors(228)"
   ]
  },
  {
   "cell_type": "code",
   "execution_count": 10,
   "metadata": {},
   "outputs": [
    {
     "data": {
      "text/plain": [
       "[1, 2, 3, 4, 6, 12, 19, 38, 57, 76, 114, 228]"
      ]
     },
     "execution_count": 10,
     "metadata": {},
     "output_type": "execute_result"
    }
   ],
   "source": [
    "factors(228)"
   ]
  },
  {
   "cell_type": "code",
   "execution_count": 11,
   "metadata": {},
   "outputs": [
    {
     "data": {
      "text/plain": [
       "[2, 3, 19]"
      ]
     },
     "execution_count": 11,
     "metadata": {},
     "output_type": "execute_result"
    }
   ],
   "source": [
    "primefactors(228)"
   ]
  },
  {
   "cell_type": "code",
   "execution_count": 12,
   "metadata": {},
   "outputs": [
    {
     "data": {
      "text/plain": [
       "False"
      ]
     },
     "execution_count": 12,
     "metadata": {},
     "output_type": "execute_result"
    }
   ],
   "source": [
    "is_prime(228)"
   ]
  },
  {
   "cell_type": "code",
   "execution_count": 16,
   "metadata": {},
   "outputs": [
    {
     "data": {
      "text/plain": [
       "114.0"
      ]
     },
     "execution_count": 16,
     "metadata": {},
     "output_type": "execute_result"
    }
   ],
   "source": [
    "228/2"
   ]
  },
  {
   "cell_type": "code",
   "execution_count": 17,
   "metadata": {},
   "outputs": [
    {
     "data": {
      "text/plain": [
       "[2, 3, 19]"
      ]
     },
     "execution_count": 17,
     "metadata": {},
     "output_type": "execute_result"
    }
   ],
   "source": [
    "primefactors(114)"
   ]
  },
  {
   "cell_type": "code",
   "execution_count": 15,
   "metadata": {},
   "outputs": [
    {
     "data": {
      "text/plain": [
       "[1, 2, 3, 6, 19, 38, 57, 114]"
      ]
     },
     "execution_count": 15,
     "metadata": {},
     "output_type": "execute_result"
    }
   ],
   "source": [
    "factors(114)"
   ]
  },
  {
   "cell_type": "code",
   "execution_count": null,
   "metadata": {},
   "outputs": [],
   "source": []
  },
  {
   "cell_type": "code",
   "execution_count": null,
   "metadata": {},
   "outputs": [],
   "source": []
  },
  {
   "cell_type": "markdown",
   "metadata": {},
   "source": [
    "# Prime Factorization -"
   ]
  },
  {
   "cell_type": "code",
   "execution_count": 5,
   "metadata": {},
   "outputs": [
    {
     "name": "stdout",
     "output_type": "stream",
     "text": [
      "enter the number n :339\n",
      "the primefactors for 339 is: 3*113\n"
     ]
    }
   ],
   "source": [
    "import math\n",
    "\n",
    "def primefactors(n):\n",
    "    \n",
    "    while n%2 ==0:\n",
    "        print(2,end=\"*\")\n",
    "        n=n/2\n",
    "        \n",
    "    for i in range(3,int(math.sqrt(n))+1,2):\n",
    "        \n",
    "        while n%i ==0:\n",
    "            print(i,end=\"*\")\n",
    "            n=n/i\n",
    "    if n>2:\n",
    "        print(int(n))\n",
    "\n",
    "n = int(input(\"enter the number n :\"))\n",
    "print(f\"the primefactors for {n} is:\",end=\" \")\n",
    "primefactors(n)\n",
    "    "
   ]
  },
  {
   "cell_type": "code",
   "execution_count": null,
   "metadata": {},
   "outputs": [],
   "source": []
  },
  {
   "cell_type": "code",
   "execution_count": 3,
   "metadata": {},
   "outputs": [
    {
     "name": "stdout",
     "output_type": "stream",
     "text": [
      "enter n: 198\n",
      "2*3*3*11\n"
     ]
    }
   ],
   "source": [
    "from functools import reduce\n",
    "from math import sqrt\n",
    "def factors(n):\n",
    "    factors=[]\n",
    "    for i in range(2,n+1):\n",
    "        if n%i ==0:\n",
    "            factors.append(i)\n",
    "    return(factors)\n",
    "\n",
    "def isprime(n):\n",
    "    if n<2:\n",
    "        return(False)\n",
    "    if n==2:\n",
    "        return(True)\n",
    "    elif n%2 ==0:\n",
    "        return(False)\n",
    "    else:\n",
    "        for i in range(3,int(sqrt(n))+1,2):\n",
    "            if n%i==0:\n",
    "                return(False)\n",
    "        return(True)\n",
    "def primefactors(n):\n",
    "    return(list(filter(isprime,factors(n))))\n",
    "\n",
    "def primefactorise(n):\n",
    "    n= int(n)\n",
    "    f = primefactors(n)\n",
    "    if isprime(n):\n",
    "        return(str(n))\n",
    "    else:\n",
    "        return( str(f[0])+'*'+primefactorise(n/f[0]))\n",
    "\n",
    "n = input(\"enter n: \")\n",
    "print(primefactorise(n))\n",
    "    "
   ]
  },
  {
   "cell_type": "code",
   "execution_count": 80,
   "metadata": {},
   "outputs": [
    {
     "data": {
      "text/plain": [
       "[2, 3, 4, 6, 12, 19, 38, 57, 76, 114, 228]"
      ]
     },
     "execution_count": 80,
     "metadata": {},
     "output_type": "execute_result"
    }
   ],
   "source": [
    "factors(228)"
   ]
  },
  {
   "cell_type": "code",
   "execution_count": 108,
   "metadata": {},
   "outputs": [
    {
     "data": {
      "text/plain": [
       "True"
      ]
     },
     "execution_count": 108,
     "metadata": {},
     "output_type": "execute_result"
    }
   ],
   "source": [
    "isprime(3)"
   ]
  },
  {
   "cell_type": "code",
   "execution_count": 67,
   "metadata": {},
   "outputs": [
    {
     "data": {
      "text/plain": [
       "[2, 3, 11]"
      ]
     },
     "execution_count": 67,
     "metadata": {},
     "output_type": "execute_result"
    }
   ],
   "source": [
    "primefactors(198)"
   ]
  },
  {
   "cell_type": "code",
   "execution_count": 92,
   "metadata": {},
   "outputs": [
    {
     "name": "stdout",
     "output_type": "stream",
     "text": [
      "Enter a number to find its prime factors: 276\n",
      "2^2, 3, 23\n"
     ]
    }
   ],
   "source": [
    "from collections import Counter\n",
    "def isPrime(x):\n",
    "    \"\"\"\n",
    "    Checks whether the given\n",
    "    number x is prime or not\n",
    "    \"\"\"\n",
    "\n",
    "    if x == 2:\n",
    "        return True\n",
    "\n",
    "    if x % 2 == 0:\n",
    "        return False\n",
    "\n",
    "    for i in range(3, int(x ** 0.5) + 1, 2):\n",
    "        if x % i == 0:\n",
    "            return False\n",
    "\n",
    "    return True\n",
    "\n",
    "\n",
    "def getExponent(n):\n",
    "    \"\"\"\n",
    "    Counts the same elements in n list\n",
    "    returns a list with the exponent of\n",
    "    the multiple elements\n",
    "    \"\"\"\n",
    "\n",
    "    c = Counter(n)\n",
    "    factors = []\n",
    "\n",
    "    for i in range(min(n), max(n) + 1):\n",
    "        if i in n:\n",
    "            if c[i] != 1:\n",
    "                factors.append(str(i) + '^' + str(c[i]))\n",
    "            else:\n",
    "                factors.append(str(i))\n",
    "\n",
    "    return factors\n",
    "\n",
    "\n",
    "def main():  # Wrapper function\n",
    "\n",
    "    n = int(input('Enter a number to find its prime factors: '))\n",
    "\n",
    "    factors = []\n",
    "    counter = 2\n",
    "\n",
    "    while True:\n",
    "\n",
    "        if n == 0 or n == 1:\n",
    "            break\n",
    "\n",
    "        for i in range(counter, n + 1):\n",
    "            if n % i == 0:\n",
    "                if isPrime(i):\n",
    "                    factors.append(i)\n",
    "                    n //= i\n",
    "                    break\n",
    "\n",
    "    if len(factors) != 0:\n",
    "        factors = getExponent(factors)\n",
    "        print(', '.join(factors))\n",
    "    else:\n",
    "        print('The number', n, 'does not have any prime factors.')\n",
    "\n",
    "if __name__ == '__main__':\n",
    "    main()"
   ]
  },
  {
   "cell_type": "code",
   "execution_count": 112,
   "metadata": {},
   "outputs": [],
   "source": [
    "def primeFactors(n):\n",
    "    factors =[]\n",
    "    while True:\n",
    "        \n",
    "        if n==0 or n==1:\n",
    "            break\n",
    "        \n",
    "        for i in range(2,n+1):\n",
    "            if n%i ==0:\n",
    "                if isprime(i):\n",
    "                    factors.append(i)\n",
    "                    n = n//i\n",
    "                    break\n",
    "    return(factors)"
   ]
  },
  {
   "cell_type": "code",
   "execution_count": 117,
   "metadata": {},
   "outputs": [
    {
     "data": {
      "text/plain": [
       "[3, 43]"
      ]
     },
     "execution_count": 117,
     "metadata": {},
     "output_type": "execute_result"
    }
   ],
   "source": [
    "primeFactors(129)"
   ]
  },
  {
   "cell_type": "code",
   "execution_count": null,
   "metadata": {},
   "outputs": [],
   "source": []
  },
  {
   "cell_type": "markdown",
   "metadata": {},
   "source": [
    "# Next Prime Number"
   ]
  },
  {
   "cell_type": "code",
   "execution_count": 118,
   "metadata": {},
   "outputs": [],
   "source": [
    "def isprime(n):\n",
    "    if n<2:\n",
    "        return(False)\n",
    "    if n==2:\n",
    "        return(True)\n",
    "    elif n%2 ==0:\n",
    "        return(False)\n",
    "    else:\n",
    "        for i in range(3,int(sqrt(n))+1,2):\n",
    "            if n%i==0:\n",
    "                return(False)\n",
    "        return(True)"
   ]
  },
  {
   "cell_type": "code",
   "execution_count": 132,
   "metadata": {},
   "outputs": [
    {
     "data": {
      "text/plain": [
       "137"
      ]
     },
     "execution_count": 132,
     "metadata": {},
     "output_type": "execute_result"
    }
   ],
   "source": [
    "def nextPrime(n):\n",
    "    \n",
    "    is_prime_flag = False\n",
    "    num = n\n",
    "    \n",
    "    while( not is_prime_flag):\n",
    "        num+=1\n",
    "        \n",
    "        if(isprime(num)):\n",
    "            is_prime_flag = True\n",
    "    return(num)\n",
    "\n",
    "nextPrime(131)"
   ]
  },
  {
   "cell_type": "markdown",
   "metadata": {},
   "source": [
    "# Find Cost of Tile to Cover W x H Floor"
   ]
  },
  {
   "cell_type": "code",
   "execution_count": 168,
   "metadata": {},
   "outputs": [],
   "source": [
    "def costtocovertile():\n",
    "    width = float(input(\"enter the width :\"))\n",
    "    height =float(input(\"enter the height :\"))\n",
    "    cost = float(input(\"enter the cost for each ppm: \"))\n",
    "    costtotile = (width*height*cost)\n",
    "    print(f\"cost to cover the tile is ${costtotile}\")"
   ]
  },
  {
   "cell_type": "code",
   "execution_count": 169,
   "metadata": {},
   "outputs": [
    {
     "name": "stdout",
     "output_type": "stream",
     "text": [
      "enter the width :18.78\n",
      "enter the height :98.76\n",
      "enter the cost for each ppm: 34.67\n",
      "cost to cover the tile is $64302.892776000015\n"
     ]
    }
   ],
   "source": [
    "costtocovertile()"
   ]
  },
  {
   "cell_type": "code",
   "execution_count": 158,
   "metadata": {},
   "outputs": [
    {
     "name": "stdout",
     "output_type": "stream",
     "text": [
      "enter the width :18.78\n",
      "enter the height :98.76\n",
      "enter the cost for each ppm: 34.67\n",
      "cost to cover the tile is $64302.892776000015\n"
     ]
    }
   ],
   "source": [
    "costtocovertile()\n"
   ]
  },
  {
   "cell_type": "code",
   "execution_count": null,
   "metadata": {},
   "outputs": [],
   "source": []
  }
 ],
 "metadata": {
  "kernelspec": {
   "display_name": "Python 3",
   "language": "python",
   "name": "python3"
  },
  "language_info": {
   "codemirror_mode": {
    "name": "ipython",
    "version": 3
   },
   "file_extension": ".py",
   "mimetype": "text/x-python",
   "name": "python",
   "nbconvert_exporter": "python",
   "pygments_lexer": "ipython3",
   "version": "3.8.3"
  }
 },
 "nbformat": 4,
 "nbformat_minor": 2
}
