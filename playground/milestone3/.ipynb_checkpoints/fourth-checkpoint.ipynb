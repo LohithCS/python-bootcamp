{
 "cells": [
  {
   "cell_type": "markdown",
   "metadata": {},
   "source": [
    "# Collatz Conjecture"
   ]
  },
  {
   "cell_type": "code",
   "execution_count": 10,
   "metadata": {},
   "outputs": [
    {
     "name": "stdout",
     "output_type": "stream",
     "text": [
      "enter n:90\n",
      "the num of steps req is :17\n"
     ]
    }
   ],
   "source": [
    "def collatz_conjecture(n):\n",
    "    steps=0\n",
    "    while n!=1:\n",
    "        if n%2 ==0:\n",
    "            n//=2\n",
    "            steps+=1\n",
    "        else:\n",
    "            n=n*3+1\n",
    "            steps+=1\n",
    "    return(steps)\n",
    "\n",
    "if __name__==\"__main__\":\n",
    "    n = int(input(\"enter n:\"))\n",
    "    print(f\"the num of steps req is :{collatz_conjecture(n)}\")"
   ]
  },
  {
   "cell_type": "code",
   "execution_count": null,
   "metadata": {},
   "outputs": [],
   "source": []
  },
  {
   "cell_type": "code",
   "execution_count": null,
   "metadata": {},
   "outputs": [],
   "source": []
  },
  {
   "cell_type": "markdown",
   "metadata": {},
   "source": [
    "# Sorting "
   ]
  },
  {
   "cell_type": "markdown",
   "metadata": {},
   "source": [
    "# bubblesort"
   ]
  },
  {
   "cell_type": "code",
   "execution_count": 86,
   "metadata": {},
   "outputs": [
    {
     "name": "stdout",
     "output_type": "stream",
     "text": [
      "enter the array: 67 7 65 4 32 10 9\n",
      "original array is : [67, 7, 65, 4, 32, 10, 9]\n",
      "the sorted list is : [4, 7, 9, 10, 32, 65, 67]\n"
     ]
    }
   ],
   "source": [
    "\n",
    "def bubblesort(list_num):\n",
    "    \n",
    "    for i in range(0,len(list_num)-1):\n",
    "        for j in range(0,len(list_num)-i-1):\n",
    "            if list_num[j]> list_num[j+1]:\n",
    "                temp = list_num[j]\n",
    "                list_num[j] = list_num[j+1]\n",
    "                list_num[j+1] = temp\n",
    "            #print(\"list is : \",list_num)\n",
    "    print(\"the sorted list is :\",list_num)\n",
    "\n",
    "    \n",
    "if __name__==\"__main__\":\n",
    "    array = input(\"enter the array: \")\n",
    "    original_list=[]\n",
    "    original_list = [ int(i) for i in array.split()]\n",
    "    print(\"original array is :\",original_list)\n",
    "    bubblesort(original_list)"
   ]
  },
  {
   "cell_type": "code",
   "execution_count": 87,
   "metadata": {},
   "outputs": [
    {
     "name": "stdout",
     "output_type": "stream",
     "text": [
      "the sorted list is : [2, 4, 7, 17, 26, 31]\n"
     ]
    }
   ],
   "source": [
    "bubblesort([31,4,2,26,7,17])"
   ]
  },
  {
   "cell_type": "markdown",
   "metadata": {},
   "source": [
    "# merge sort"
   ]
  },
  {
   "cell_type": "code",
   "execution_count": 81,
   "metadata": {},
   "outputs": [
    {
     "name": "stdout",
     "output_type": "stream",
     "text": [
      "enter the array: 67 7 65 4 32 10 9\n",
      "original array is : [67, 7, 65, 4, 32, 10, 9]\n",
      "sorted array is : [4, 7, 9, 10, 32, 65, 67]\n"
     ]
    }
   ],
   "source": [
    "def merge(list1,list2):\n",
    "    res = []\n",
    "    while len(list1) and len(list2):\n",
    "        if list1[0]<= list2[0]:\n",
    "            res.append(list1.pop(0))\n",
    "        else:\n",
    "            res.append(list2.pop(0))\n",
    "    if len(list1)!=0:\n",
    "        res.extend(list1)\n",
    "    if len(list2)!=0:\n",
    "        res.extend(list2)\n",
    "    return(res)\n",
    "\n",
    "def mergesort(arr):\n",
    "    if len(arr)<=1:\n",
    "        return(arr)\n",
    "    \n",
    "    result=[]\n",
    "    mid = len(arr)//2\n",
    "    left = arr[:mid]\n",
    "    right = arr[mid:]\n",
    "    \n",
    "    left=mergesort(left)\n",
    "    right=mergesort(right)\n",
    "    result.extend(merge(left,right))\n",
    "    return(result)\n",
    "\n",
    "if __name__==\"__main__\":\n",
    "    array = input(\"enter the array: \")\n",
    "    original_list=[]\n",
    "    original_list = [ int(i) for i in array.split()]\n",
    "    print(\"original array is :\",original_list)\n",
    "    print(\"sorted array is :\",mergesort(original_list))"
   ]
  },
  {
   "cell_type": "code",
   "execution_count": 54,
   "metadata": {},
   "outputs": [
    {
     "data": {
      "text/plain": [
       "[0, 1, 1, 2, 3, 7, 9, 9]"
      ]
     },
     "execution_count": 54,
     "metadata": {},
     "output_type": "execute_result"
    }
   ],
   "source": [
    "merge([1,2,3,9],[0,1,7,9])"
   ]
  },
  {
   "cell_type": "code",
   "execution_count": 57,
   "metadata": {},
   "outputs": [
    {
     "data": {
      "text/plain": [
       "[2, 4, 7, 17, 26, 31]"
      ]
     },
     "execution_count": 57,
     "metadata": {},
     "output_type": "execute_result"
    }
   ],
   "source": [
    "mergesort([31,4,2,26,7,17])"
   ]
  },
  {
   "cell_type": "code",
   "execution_count": 73,
   "metadata": {},
   "outputs": [],
   "source": [
    "n='31,4,2,671,7'"
   ]
  },
  {
   "cell_type": "code",
   "execution_count": 1,
   "metadata": {},
   "outputs": [
    {
     "data": {
      "text/plain": [
       "9223372036854775807"
      ]
     },
     "execution_count": 1,
     "metadata": {},
     "output_type": "execute_result"
    }
   ],
   "source": [
    "import sys\n",
    "sys.maxsize"
   ]
  },
  {
   "cell_type": "code",
   "execution_count": null,
   "metadata": {},
   "outputs": [],
   "source": []
  },
  {
   "cell_type": "markdown",
   "metadata": {},
   "source": [
    "# Dijkstra’s Algorithm"
   ]
  },
  {
   "cell_type": "code",
   "execution_count": null,
   "metadata": {},
   "outputs": [],
   "source": []
  },
  {
   "cell_type": "code",
   "execution_count": 102,
   "metadata": {},
   "outputs": [
    {
     "name": "stdout",
     "output_type": "stream",
     "text": [
      "vertex\t\t distance from source\tpath\n",
      "\n",
      "0 --> 1 \t\t4 \t\t 0->1->\b\b \n",
      "0 --> 2 \t\t12 \t\t 0->1->2->\b\b \n",
      "0 --> 3 \t\t19 \t\t 0->1->2->3->\b\b \n",
      "0 --> 4 \t\t21 \t\t 0->7->6->5->4->\b\b \n",
      "0 --> 5 \t\t11 \t\t 0->7->6->5->\b\b \n",
      "0 --> 6 \t\t9 \t\t 0->7->6->\b\b \n",
      "0 --> 7 \t\t8 \t\t 0->7->\b\b \n",
      "0 --> 8 \t\t14 \t\t 0->1->2->8->\b\b "
     ]
    }
   ],
   "source": [
    "g.dijkstra(graph,0)"
   ]
  },
  {
   "cell_type": "code",
   "execution_count": null,
   "metadata": {},
   "outputs": [],
   "source": []
  },
  {
   "cell_type": "code",
   "execution_count": 96,
   "metadata": {},
   "outputs": [
    {
     "data": {
      "text/plain": [
       "inf"
      ]
     },
     "execution_count": 96,
     "metadata": {},
     "output_type": "execute_result"
    }
   ],
   "source": [
    "float('Inf')"
   ]
  },
  {
   "cell_type": "code",
   "execution_count": null,
   "metadata": {},
   "outputs": [],
   "source": []
  },
  {
   "cell_type": "code",
   "execution_count": 185,
   "metadata": {},
   "outputs": [],
   "source": [
    "from sys import maxsize\n",
    "class Graph():\n",
    "    \n",
    "    def min_distance(self,dist,queue):\n",
    "        \n",
    "        min_dist = maxsize\n",
    "        min_index = -1\n",
    "        \n",
    "        for i in range(len(dist)):\n",
    "            if dist[i] <min_dist and i in queue:\n",
    "                min_dist = dist[i]\n",
    "                min_index = i\n",
    "        return(min_index)\n",
    "    \n",
    "    def printpath(self,parent,j):\n",
    "        \n",
    "        if parent[j]==-1:\n",
    "            print(j,end=\"->\")\n",
    "            return\n",
    "        self.printpath(parent,parent[j])\n",
    "        print(j,end=\"->\")\n",
    "    \n",
    "    def printsolution(self,dist,parent):\n",
    "        src=0\n",
    "        print(\"vertex\\t\\t distance from source\\t\\tpath\")\n",
    "        for i in range(1,len(dist)):\n",
    "            print(f\"\\n{src}->{i}\\t\\t\\t{dist[i]}\\t\\t\\t\",end='')\n",
    "            self.printpath(parent,i)\n",
    "            print(\"\\b\\b\",end=\" \")\n",
    "            \n",
    "    \n",
    "    def dijkstra(self,graph,src):\n",
    "        \n",
    "        rows = len(graph)\n",
    "        cols = len(graph[0])\n",
    "        \n",
    "        dist= [maxsize]*rows\n",
    "        dist[src] =0\n",
    "        parent = [-1]*rows\n",
    "        queue =[]\n",
    "        \n",
    "        for i in range(rows):\n",
    "            queue.append(i)\n",
    "            \n",
    "        while len(queue):\n",
    "            \n",
    "            u=self.min_distance(dist,queue)\n",
    "            queue.remove(u)\n",
    "            \n",
    "            for i in range(cols):\n",
    "                if graph[u][i] and i in queue:\n",
    "                    if dist[u] + graph[u][i] < dist[i]:\n",
    "                        dist[i]= dist[u]+ graph[u][i]\n",
    "                        parent[i]=u\n",
    "        self.printsolution(dist,parent)\n",
    "    \n"
   ]
  },
  {
   "cell_type": "code",
   "execution_count": 186,
   "metadata": {},
   "outputs": [
    {
     "name": "stdout",
     "output_type": "stream",
     "text": [
      "vertex\t\t distance from source\t\tpath\n",
      "\n",
      "0->1\t\t\t4\t\t\t0->1->\b\b \n",
      "0->2\t\t\t12\t\t\t0->1->2->\b\b \n",
      "0->3\t\t\t19\t\t\t0->1->2->3->\b\b \n",
      "0->4\t\t\t21\t\t\t0->7->6->5->4->\b\b \n",
      "0->5\t\t\t11\t\t\t0->7->6->5->\b\b \n",
      "0->6\t\t\t9\t\t\t0->7->6->\b\b \n",
      "0->7\t\t\t8\t\t\t0->7->\b\b \n",
      "0->8\t\t\t14\t\t\t0->1->2->8->\b\b "
     ]
    }
   ],
   "source": [
    "g= Graph()\n",
    "graph = [[0, 4, 0, 0, 0, 0, 0, 8, 0], \n",
    "        [4, 0, 8, 0, 0, 0, 0, 11, 0], \n",
    "        [0, 8, 0, 7, 0, 4, 0, 0, 2], \n",
    "        [0, 0, 7, 0, 9, 14, 0, 0, 0], \n",
    "        [0, 0, 0, 9, 0, 10, 0, 0, 0], \n",
    "        [0, 0, 4, 14, 10, 0, 2, 0, 0], \n",
    "        [0, 0, 0, 0, 0, 2, 0, 1, 6], \n",
    "        [8, 11, 0, 0, 0, 0, 1, 0, 7], \n",
    "        [0, 0, 2, 0, 0, 0, 6, 7, 0]]\n",
    "\n",
    "g.dijkstra(graph,0)"
   ]
  },
  {
   "cell_type": "code",
   "execution_count": null,
   "metadata": {},
   "outputs": [],
   "source": []
  },
  {
   "cell_type": "code",
   "execution_count": null,
   "metadata": {},
   "outputs": [],
   "source": []
  }
 ],
 "metadata": {
  "kernelspec": {
   "display_name": "Python 3",
   "language": "python",
   "name": "python3"
  },
  "language_info": {
   "codemirror_mode": {
    "name": "ipython",
    "version": 3
   },
   "file_extension": ".py",
   "mimetype": "text/x-python",
   "name": "python",
   "nbconvert_exporter": "python",
   "pygments_lexer": "ipython3",
   "version": "3.8.3"
  }
 },
 "nbformat": 4,
 "nbformat_minor": 4
}
