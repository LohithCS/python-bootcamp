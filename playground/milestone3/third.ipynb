{
 "cells": [
  {
   "cell_type": "markdown",
   "metadata": {},
   "source": [
    "M= (P*(R/12)*(1+R/12)**N)/((1+R/12)**N-1)"
   ]
  },
  {
   "cell_type": "markdown",
   "metadata": {},
   "source": [
    "# Mortgage Calculator"
   ]
  },
  {
   "cell_type": "code",
   "execution_count": 10,
   "metadata": {},
   "outputs": [],
   "source": [
    "def mortrage_calc(principal,rate,years):\n",
    "    \n",
    "    interest_rate= rate/100\n",
    "    monthly_rate = interest_rate/12  #R/12\n",
    "    \n",
    "    number_of_payments = years*12\n",
    "    \n",
    "    num = (principal*monthly_rate)*((1+monthly_rate)**number_of_payments)\n",
    "    deno = ((1+monthly_rate)**number_of_payments)-1\n",
    "    \n",
    "    monthly_rate = num/deno\n",
    "    \n",
    "    return(float(\"{0:.4f}\".format(monthly_rate)))"
   ]
  },
  {
   "cell_type": "code",
   "execution_count": 11,
   "metadata": {},
   "outputs": [
    {
     "data": {
      "text/plain": [
       "1909.6612"
      ]
     },
     "execution_count": 11,
     "metadata": {},
     "output_type": "execute_result"
    }
   ],
   "source": [
    "mortrage_calc(400000,4,30)"
   ]
  },
  {
   "cell_type": "markdown",
   "metadata": {},
   "source": [
    "# Calculator "
   ]
  },
  {
   "cell_type": "code",
   "execution_count": 30,
   "metadata": {},
   "outputs": [
    {
     "name": "stdout",
     "output_type": "stream",
     "text": [
      "choose first num:45\n",
      "choose second num:32\n",
      "choose operation: + - * /: -\n",
      "45 - 32 = 13\n"
     ]
    }
   ],
   "source": [
    "def calculator(a,b,operation):\n",
    "    \n",
    "    if operation not in '+-*/':\n",
    "        return(\"choose the valid operation\")\n",
    "    \n",
    "    if operation==\"+\":\n",
    "        return(f\"{a} + {b} = {a+b}\")\n",
    "    elif operation=='-':\n",
    "        return(f\"{a} - {b} = {a-b}\")\n",
    "    elif operation=='*':\n",
    "        return(f\"{a} * {b} = {a*b}\")\n",
    "    elif operation=='/':\n",
    "        return(f\"{a} / {b} = {a/b}\")\n",
    "    \n",
    "a = int(input(\"choose first num:\"))\n",
    "b = int(input(\"choose second num:\"))\n",
    "operation = input(\"choose operation: + - * /: \")\n",
    "print(calculator(a,b,operation))"
   ]
  },
  {
   "cell_type": "code",
   "execution_count": 24,
   "metadata": {},
   "outputs": [
    {
     "data": {
      "text/plain": [
       "'23 + 34 = 57'"
      ]
     },
     "execution_count": 24,
     "metadata": {},
     "output_type": "execute_result"
    }
   ],
   "source": [
    "calculator(23,34,'+')"
   ]
  },
  {
   "cell_type": "code",
   "execution_count": null,
   "metadata": {},
   "outputs": [],
   "source": []
  },
  {
   "cell_type": "code",
   "execution_count": 43,
   "metadata": {},
   "outputs": [],
   "source": [
    "def tobindary(num):\n",
    "    binary=[]\n",
    "    while num!=0:\n",
    "        binary.append(num%2)\n",
    "        num = num//2\n",
    "    binary=binary[::-1]\n",
    "    binary= [str(i) for i in binary]\n",
    "    return(''.join(binary))"
   ]
  },
  {
   "cell_type": "code",
   "execution_count": 44,
   "metadata": {},
   "outputs": [
    {
     "data": {
      "text/plain": [
       "'10011'"
      ]
     },
     "execution_count": 44,
     "metadata": {},
     "output_type": "execute_result"
    }
   ],
   "source": [
    "tobindary(19)"
   ]
  },
  {
   "cell_type": "code",
   "execution_count": 36,
   "metadata": {},
   "outputs": [
    {
     "data": {
      "text/plain": [
       "[1, 0, 0, 1, 1]"
      ]
     },
     "execution_count": 36,
     "metadata": {},
     "output_type": "execute_result"
    }
   ],
   "source": [
    "tobindary(19)"
   ]
  },
  {
   "cell_type": "code",
   "execution_count": 46,
   "metadata": {},
   "outputs": [
    {
     "data": {
      "text/plain": [
       "'10011'"
      ]
     },
     "execution_count": 46,
     "metadata": {},
     "output_type": "execute_result"
    }
   ],
   "source": [
    "bin(19).replace(\"0b\",'')"
   ]
  },
  {
   "cell_type": "markdown",
   "metadata": {},
   "source": [
    "# Binary to Decimal and Back Converter"
   ]
  },
  {
   "cell_type": "code",
   "execution_count": 59,
   "metadata": {},
   "outputs": [
    {
     "name": "stdout",
     "output_type": "stream",
     "text": [
      "enter the decimal number:57\n",
      "111001\n",
      "\n",
      "enter the binary number:111011\n",
      "59\n"
     ]
    }
   ],
   "source": [
    "def tobinary(n):\n",
    "    if n==0:\n",
    "        return\n",
    "    tobinary(n//2)\n",
    "    print(n%2,end=\"\")\n",
    "\n",
    "def binarytodecimal(binary):\n",
    "    decimal =0\n",
    "    i=0\n",
    "    while(binary!=0):\n",
    "        dec = binary % 10\n",
    "        binary = binary//10\n",
    "        decimal+= dec*(2**i)\n",
    "        i+=1\n",
    "    return(decimal)\n",
    "\n",
    "num = int(input(\"enter the decimal number:\"))\n",
    "tobinary(num)\n",
    "print(\"\\n\")\n",
    "binary = int(input('enter the binary number:'))\n",
    "print(binarytodecimal(binary))"
   ]
  },
  {
   "cell_type": "code",
   "execution_count": null,
   "metadata": {},
   "outputs": [],
   "source": [
    "tobinary(27)"
   ]
  },
  {
   "cell_type": "code",
   "execution_count": 53,
   "metadata": {},
   "outputs": [
    {
     "data": {
      "text/plain": [
       "23"
      ]
     },
     "execution_count": 53,
     "metadata": {},
     "output_type": "execute_result"
    }
   ],
   "source": [
    "binarytodecimal(10111)"
   ]
  },
  {
   "cell_type": "code",
   "execution_count": 61,
   "metadata": {},
   "outputs": [
    {
     "data": {
      "text/plain": [
       "'0b111011'"
      ]
     },
     "execution_count": 61,
     "metadata": {},
     "output_type": "execute_result"
    }
   ],
   "source": [
    "bin(59)"
   ]
  },
  {
   "cell_type": "markdown",
   "metadata": {},
   "source": [
    "# Alarm Clock"
   ]
  },
  {
   "cell_type": "code",
   "execution_count": 23,
   "metadata": {},
   "outputs": [
    {
     "name": "stdout",
     "output_type": "stream",
     "text": [
      "enter the unit of time\n",
      "1. hour\n",
      "2. minutes\n",
      "3. seconds\n",
      "4. combination3\n",
      "enter the desired num of seconds:3\n",
      "wait time : 3 seconds\n"
     ]
    }
   ],
   "source": [
    "import winsound,time,os\n",
    "\n",
    "def alarm(n):\n",
    "    print(\"wait time : {} seconds\".format(n))\n",
    "    time.sleep(n)\n",
    "    sound(n)\n",
    "def sound(n):\n",
    "    for i in range(2):\n",
    "        for j in range(100):\n",
    "            winsound.MessageBeep()\n",
    "        time.sleep(5)\n",
    "def user_choice(choice):\n",
    "    if choice=='1':\n",
    "        hours = int(input(\"enter the desired num of hours:\"))\n",
    "        seconds = hours*60*60\n",
    "        alarm(seconds)\n",
    "    elif choice=='2':\n",
    "        minutes = int(input(\"enter the desired num of minutes:\"))\n",
    "        seconds = (minutes*60)\n",
    "        alarm(seconds)\n",
    "    elif choice=='3':\n",
    "        seconds = int(input(\"enter the desired num of seconds:\"))\n",
    "        alarm(seconds)\n",
    "    elif choice =='4':\n",
    "        hours = int(input(\"enter the desired num of hours:\"))\n",
    "        minutes = int(input(\"enter the desired num of minutes:\"))\n",
    "        seconds = int(input(\"enter the desired num of seconds:\"))\n",
    "        seconds = (hours*60*60)+ (minutes*60)+ seconds\n",
    "        alarm(seconds)\n",
    "    else:\n",
    "        os.system('cls')\n",
    "        user_input()\n",
    "                      \n",
    "def user_input():\n",
    "    choice=input(\"enter the unit of time\\n1. hour\\n2. minutes\\n3. seconds\\n4. combination\")\n",
    "    user_choice(choice)\n",
    "user_input()"
   ]
  },
  {
   "cell_type": "code",
   "execution_count": 3,
   "metadata": {},
   "outputs": [],
   "source": [
    "sound(10)"
   ]
  },
  {
   "cell_type": "code",
   "execution_count": 1,
   "metadata": {},
   "outputs": [],
   "source": [
    "from playsound import playsound"
   ]
  },
  {
   "cell_type": "code",
   "execution_count": null,
   "metadata": {},
   "outputs": [],
   "source": [
    "playsound(\"C://Users//lohit//Downloads/Soul Of Dia.mp3\")"
   ]
  },
  {
   "cell_type": "code",
   "execution_count": null,
   "metadata": {},
   "outputs": [],
   "source": []
  },
  {
   "cell_type": "markdown",
   "metadata": {},
   "source": [
    "# Factorial Finder"
   ]
  },
  {
   "cell_type": "code",
   "execution_count": 14,
   "metadata": {},
   "outputs": [
    {
     "name": "stdout",
     "output_type": "stream",
     "text": [
      "enter n :6\n",
      "6! is :720\n"
     ]
    }
   ],
   "source": [
    "def fact(n):\n",
    "    if n==0:\n",
    "        return(1)\n",
    "    else:\n",
    "        return(n*fact(n-1))\n",
    "def main():\n",
    "    n=int(input(\"enter n :\"))\n",
    "    print(f\"{n}! is :{fact(n)}\")\n",
    "main()"
   ]
  },
  {
   "cell_type": "code",
   "execution_count": 16,
   "metadata": {},
   "outputs": [],
   "source": [
    "from functools import reduce\n",
    "fact = lambda n: reduce( lambda x,y: x*y, range(1,n+1)) if n>1 else 1"
   ]
  },
  {
   "cell_type": "code",
   "execution_count": 17,
   "metadata": {},
   "outputs": [
    {
     "data": {
      "text/plain": [
       "5040"
      ]
     },
     "execution_count": 17,
     "metadata": {},
     "output_type": "execute_result"
    }
   ],
   "source": [
    "fact(7)"
   ]
  },
  {
   "cell_type": "markdown",
   "metadata": {},
   "source": [
    "# Complex Number Algebra"
   ]
  },
  {
   "cell_type": "code",
   "execution_count": 104,
   "metadata": {},
   "outputs": [],
   "source": [
    "class complexOperations():\n",
    "    def __init__(self,x,y):\n",
    "        self.x = x\n",
    "        self.y = y\n",
    "        \n",
    "    def add(self):\n",
    "        return number(self.x.r+self.y.r, self.x.im+self.y.im).show()\n",
    "    \n",
    "    def multi(self):\n",
    "        return number(self.x.r*self.y.r-self.x.im*self.y.im, self.x.im*self.y.r+self.x.r*self.y.im).show()\n",
    "    \n",
    "class number():\n",
    "    \n",
    "    def __init__(self,real,imag):\n",
    "        self.r = real\n",
    "        self.im = imag\n",
    "    \n",
    "    def show(self):\n",
    "        print(\"({},{}i)\".format(self.r,self.im))\n",
    "    \n",
    "    def negation(self):\n",
    "        self.r = self.r*-1\n",
    "        self.im = self.im*-1\n",
    "        return(self)\n",
    "    \n",
    "    def inversion(self):\n",
    "        root = self.r*self.r +self.im*self.im\n",
    "        self.r = self.r/root\n",
    "        self.im = - (self.im/root)\n",
    "        return(self)\n",
    "        \n",
    "    \n",
    "        "
   ]
  },
  {
   "cell_type": "code",
   "execution_count": 105,
   "metadata": {},
   "outputs": [],
   "source": [
    "n1=number(3,5)\n",
    "n2= number(4,2)"
   ]
  },
  {
   "cell_type": "code",
   "execution_count": 106,
   "metadata": {},
   "outputs": [
    {
     "name": "stdout",
     "output_type": "stream",
     "text": [
      "(4,2i)\n"
     ]
    }
   ],
   "source": [
    "## n1.show()\n",
    "n2.show()"
   ]
  },
  {
   "cell_type": "code",
   "execution_count": 107,
   "metadata": {},
   "outputs": [],
   "source": [
    "n1=n1.negation()"
   ]
  },
  {
   "cell_type": "code",
   "execution_count": 108,
   "metadata": {},
   "outputs": [
    {
     "name": "stdout",
     "output_type": "stream",
     "text": [
      "(-3,-5i)\n"
     ]
    }
   ],
   "source": [
    "n1.show()"
   ]
  },
  {
   "cell_type": "code",
   "execution_count": 99,
   "metadata": {},
   "outputs": [],
   "source": [
    "n1=n1.inversion()"
   ]
  },
  {
   "cell_type": "code",
   "execution_count": 100,
   "metadata": {},
   "outputs": [
    {
     "name": "stdout",
     "output_type": "stream",
     "text": [
      "(-3.0 -5.0i)\n"
     ]
    }
   ],
   "source": [
    "n1.show()"
   ]
  },
  {
   "cell_type": "code",
   "execution_count": 109,
   "metadata": {},
   "outputs": [],
   "source": [
    "c= complexOperations(n1,n2)"
   ]
  },
  {
   "cell_type": "code",
   "execution_count": 110,
   "metadata": {},
   "outputs": [
    {
     "name": "stdout",
     "output_type": "stream",
     "text": [
      "(1,-3i)\n"
     ]
    }
   ],
   "source": [
    "c.add()"
   ]
  },
  {
   "cell_type": "code",
   "execution_count": 111,
   "metadata": {},
   "outputs": [
    {
     "name": "stdout",
     "output_type": "stream",
     "text": [
      "(-2,-26i)\n"
     ]
    }
   ],
   "source": [
    "c.multi()"
   ]
  },
  {
   "cell_type": "markdown",
   "metadata": {},
   "source": [
    "# Happy Numbers "
   ]
  },
  {
   "cell_type": "code",
   "execution_count": 152,
   "metadata": {},
   "outputs": [
    {
     "name": "stdout",
     "output_type": "stream",
     "text": [
      "enter num to start from:34\n",
      "the happy numbers are :\n",
      "44 49 68 70 79 82 86 91 "
     ]
    }
   ],
   "source": [
    "def sum_of_sqaures(n):\n",
    "    sum =0   \n",
    "    while(n>=1):\n",
    "        unit_digit = n%10\n",
    "        sum+= unit_digit**2\n",
    "        n = n//10\n",
    "    return(sum)\n",
    "\n",
    "def is_happy(num):\n",
    "    seen_numbers=[]\n",
    "    \n",
    "    while num>1 and num not in seen_numbers:\n",
    "        seen_numbers.append(num)\n",
    "        num = sum_of_sqaures(num)\n",
    "        #print(num)\n",
    "    return(num==1)\n",
    "\n",
    "def main():\n",
    "    num = int(input(\"enter num to start from:\"))\n",
    "    count=0\n",
    "    happY_numbers=[]\n",
    "    print(\"the happy numbers are :\")\n",
    "    while(count!=8):\n",
    "        if is_happy(num):\n",
    "            print(num,end=\" \")\n",
    "            happY_numbers.append(num)\n",
    "            count+=1\n",
    "        num+=1\n",
    "    return(happY_numbers)\n",
    "            \n",
    "    \n",
    "    \n",
    "\n",
    "numbers=main()"
   ]
  },
  {
   "cell_type": "code",
   "execution_count": 139,
   "metadata": {},
   "outputs": [
    {
     "data": {
      "text/plain": [
       "1"
      ]
     },
     "execution_count": 139,
     "metadata": {},
     "output_type": "execute_result"
    }
   ],
   "source": [
    "sum_of_squares(10)"
   ]
  },
  {
   "cell_type": "code",
   "execution_count": 140,
   "metadata": {},
   "outputs": [
    {
     "data": {
      "text/plain": [
       "50"
      ]
     },
     "execution_count": 140,
     "metadata": {},
     "output_type": "execute_result"
    }
   ],
   "source": [
    "sum_of_squares(107)"
   ]
  },
  {
   "cell_type": "code",
   "execution_count": 153,
   "metadata": {},
   "outputs": [
    {
     "data": {
      "text/plain": [
       "[44, 49, 68, 70, 79, 82, 86, 91]"
      ]
     },
     "execution_count": 153,
     "metadata": {},
     "output_type": "execute_result"
    }
   ],
   "source": [
    "numbers"
   ]
  },
  {
   "cell_type": "code",
   "execution_count": 148,
   "metadata": {},
   "outputs": [
    {
     "data": {
      "text/plain": [
       "True"
      ]
     },
     "execution_count": 148,
     "metadata": {},
     "output_type": "execute_result"
    }
   ],
   "source": [
    "is_happy(68)"
   ]
  },
  {
   "cell_type": "markdown",
   "metadata": {},
   "source": [
    "# Coin Flip Simulation"
   ]
  },
  {
   "cell_type": "code",
   "execution_count": 163,
   "metadata": {},
   "outputs": [
    {
     "name": "stdout",
     "output_type": "stream",
     "text": [
      "how many times you want to flip coin (n): 2\n",
      " num of heads = 1 and num of tails = 1\n"
     ]
    }
   ],
   "source": [
    "from random import randint\n",
    "def coinflip(n):\n",
    "    heads=0\n",
    "    tails=0\n",
    "    for i in range(0,n):\n",
    "        choice = randint(0,1)\n",
    "        if choice==1:\n",
    "            heads+=1\n",
    "        else:\n",
    "            tails+=1\n",
    "    return(f\" num of heads = {heads} and num of tails = {tails}\")\n",
    "\n",
    "if __name__==\"__main__\":\n",
    "    num= int(input(\"how many times you want to flip coin (n): \"))\n",
    "    print(coinflip(num))"
   ]
  },
  {
   "cell_type": "code",
   "execution_count": null,
   "metadata": {},
   "outputs": [],
   "source": []
  },
  {
   "cell_type": "markdown",
   "metadata": {},
   "source": [
    "# Fast Exponentiation"
   ]
  },
  {
   "cell_type": "code",
   "execution_count": 171,
   "metadata": {},
   "outputs": [
    {
     "name": "stdout",
     "output_type": "stream",
     "text": [
      "enter a 45\n",
      "enter b 6\n",
      "8303765625\n"
     ]
    }
   ],
   "source": [
    "def power(a,b):\n",
    "    \n",
    "    if b==0:\n",
    "        return(1)\n",
    "    else:\n",
    "        temp = power(a,b//2)\n",
    "        if (b%2 ==0):\n",
    "            return( temp* temp)\n",
    "        else:\n",
    "            return(temp*temp*a)\n",
    "if __name__==\"__main__\":\n",
    "    a = int(input(\"enter a \"))\n",
    "    b = int(input(\"enter b \"))\n",
    "    print(power(a,b))"
   ]
  },
  {
   "cell_type": "code",
   "execution_count": 172,
   "metadata": {},
   "outputs": [
    {
     "data": {
      "text/plain": [
       "8303765625"
      ]
     },
     "execution_count": 172,
     "metadata": {},
     "output_type": "execute_result"
    }
   ],
   "source": [
    "pow(45,6)"
   ]
  },
  {
   "cell_type": "code",
   "execution_count": null,
   "metadata": {},
   "outputs": [],
   "source": []
  }
 ],
 "metadata": {
  "kernelspec": {
   "display_name": "Python 3",
   "language": "python",
   "name": "python3"
  },
  "language_info": {
   "codemirror_mode": {
    "name": "ipython",
    "version": 3
   },
   "file_extension": ".py",
   "mimetype": "text/x-python",
   "name": "python",
   "nbconvert_exporter": "python",
   "pygments_lexer": "ipython3",
   "version": "3.8.3"
  }
 },
 "nbformat": 4,
 "nbformat_minor": 4
}
