{
 "cells": [
  {
   "cell_type": "code",
   "execution_count": 7,
   "metadata": {},
   "outputs": [],
   "source": [
    "name='global'\n",
    "\n",
    "def greet():\n",
    "    # name='enclosing'\n",
    "    \n",
    "    def hello():\n",
    "        #name='local'\n",
    "        print('hello '+name)\n",
    "    hello()"
   ]
  },
  {
   "cell_type": "code",
   "execution_count": 8,
   "metadata": {},
   "outputs": [
    {
     "name": "stdout",
     "output_type": "stream",
     "text": [
      "hello global\n"
     ]
    }
   ],
   "source": [
    "greet()"
   ]
  },
  {
   "cell_type": "code",
   "execution_count": 10,
   "metadata": {},
   "outputs": [],
   "source": [
    "x=50\n",
    "def func():\n",
    "    global x\n",
    "    print(f'x is {x}')\n",
    "    x=200\n",
    "    print(f'after changing global x, is {x}')"
   ]
  },
  {
   "cell_type": "code",
   "execution_count": 11,
   "metadata": {},
   "outputs": [
    {
     "data": {
      "text/plain": [
       "50"
      ]
     },
     "execution_count": 11,
     "metadata": {},
     "output_type": "execute_result"
    }
   ],
   "source": [
    "x"
   ]
  },
  {
   "cell_type": "code",
   "execution_count": 13,
   "metadata": {},
   "outputs": [
    {
     "name": "stdout",
     "output_type": "stream",
     "text": [
      "x is 50\n",
      "after changing global x, is 200\n"
     ]
    }
   ],
   "source": [
    "func()"
   ]
  },
  {
   "cell_type": "code",
   "execution_count": 15,
   "metadata": {},
   "outputs": [
    {
     "data": {
      "text/plain": [
       "200"
      ]
     },
     "execution_count": 15,
     "metadata": {},
     "output_type": "execute_result"
    }
   ],
   "source": [
    "x"
   ]
  },
  {
   "cell_type": "code",
   "execution_count": 17,
   "metadata": {},
   "outputs": [
    {
     "data": {
      "text/plain": [
       "{'__name__': '__main__',\n",
       " '__doc__': 'Automatically created module for IPython interactive environment',\n",
       " '__package__': None,\n",
       " '__loader__': None,\n",
       " '__spec__': None,\n",
       " '__builtin__': <module 'builtins' (built-in)>,\n",
       " '__builtins__': <module 'builtins' (built-in)>,\n",
       " '_ih': ['',\n",
       "  \"name='global'\\n\\ndef greet():\\n    name='enclosing'\\n    \\n    def hello():\\n        name='local'\\n        print('hello'+name)\\n    hello()\",\n",
       "  'greet()',\n",
       "  \"name='global'\\n\\ndef greet():\\n    name='enclosing'\\n    \\n    def hello():\\n        name='local'\\n        print('hello '+name)\\n    hello()\",\n",
       "  'greet()',\n",
       "  \"name='global'\\n\\ndef greet():\\n    name='enclosing'\\n    \\n    def hello():\\n        #name='local'\\n        print('hello '+name)\\n    hello()\",\n",
       "  'greet()',\n",
       "  \"name='global'\\n\\ndef greet():\\n    # name='enclosing'\\n    \\n    def hello():\\n        #name='local'\\n        print('hello '+name)\\n    hello()\",\n",
       "  'greet()',\n",
       "  \"x=50\\ndef func():\\n    global x\\n    print(f'x is {x}')\",\n",
       "  \"x=50\\ndef func():\\n    global x\\n    print(f'x is {x}')\\n    x=200\\n    print(f'after changing global x, is {x}')\",\n",
       "  'x',\n",
       "  'func',\n",
       "  'func()',\n",
       "  'X',\n",
       "  'x',\n",
       "  'global()',\n",
       "  'globals()'],\n",
       " '_oh': {11: 50, 12: <function __main__.func()>, 15: 200},\n",
       " '_dh': ['C:\\\\Users\\\\lohit\\\\Documents\\\\Python Scripts\\\\playground\\\\section6'],\n",
       " 'In': ['',\n",
       "  \"name='global'\\n\\ndef greet():\\n    name='enclosing'\\n    \\n    def hello():\\n        name='local'\\n        print('hello'+name)\\n    hello()\",\n",
       "  'greet()',\n",
       "  \"name='global'\\n\\ndef greet():\\n    name='enclosing'\\n    \\n    def hello():\\n        name='local'\\n        print('hello '+name)\\n    hello()\",\n",
       "  'greet()',\n",
       "  \"name='global'\\n\\ndef greet():\\n    name='enclosing'\\n    \\n    def hello():\\n        #name='local'\\n        print('hello '+name)\\n    hello()\",\n",
       "  'greet()',\n",
       "  \"name='global'\\n\\ndef greet():\\n    # name='enclosing'\\n    \\n    def hello():\\n        #name='local'\\n        print('hello '+name)\\n    hello()\",\n",
       "  'greet()',\n",
       "  \"x=50\\ndef func():\\n    global x\\n    print(f'x is {x}')\",\n",
       "  \"x=50\\ndef func():\\n    global x\\n    print(f'x is {x}')\\n    x=200\\n    print(f'after changing global x, is {x}')\",\n",
       "  'x',\n",
       "  'func',\n",
       "  'func()',\n",
       "  'X',\n",
       "  'x',\n",
       "  'global()',\n",
       "  'globals()'],\n",
       " 'Out': {11: 50, 12: <function __main__.func()>, 15: 200},\n",
       " 'get_ipython': <bound method InteractiveShell.get_ipython of <ipykernel.zmqshell.ZMQInteractiveShell object at 0x000001F25CA690A0>>,\n",
       " 'exit': <IPython.core.autocall.ZMQExitAutocall at 0x1f25cb0dd90>,\n",
       " 'quit': <IPython.core.autocall.ZMQExitAutocall at 0x1f25cb0dd90>,\n",
       " '_': 200,\n",
       " '__': <function __main__.func()>,\n",
       " '___': 50,\n",
       " '_i': 'global()',\n",
       " '_ii': 'x',\n",
       " '_iii': 'X',\n",
       " '_i1': \"name='global'\\n\\ndef greet():\\n    name='enclosing'\\n    \\n    def hello():\\n        name='local'\\n        print('hello'+name)\\n    hello()\",\n",
       " 'name': 'global',\n",
       " 'greet': <function __main__.greet()>,\n",
       " '_i2': 'greet()',\n",
       " '_i3': \"name='global'\\n\\ndef greet():\\n    name='enclosing'\\n    \\n    def hello():\\n        name='local'\\n        print('hello '+name)\\n    hello()\",\n",
       " '_i4': 'greet()',\n",
       " '_i5': \"name='global'\\n\\ndef greet():\\n    name='enclosing'\\n    \\n    def hello():\\n        #name='local'\\n        print('hello '+name)\\n    hello()\",\n",
       " '_i6': 'greet()',\n",
       " '_i7': \"name='global'\\n\\ndef greet():\\n    # name='enclosing'\\n    \\n    def hello():\\n        #name='local'\\n        print('hello '+name)\\n    hello()\",\n",
       " '_i8': 'greet()',\n",
       " '_i9': \"x=50\\ndef func():\\n    global x\\n    print(f'x is {x}')\",\n",
       " 'x': 200,\n",
       " 'func': <function __main__.func()>,\n",
       " '_i10': \"x=50\\ndef func():\\n    global x\\n    print(f'x is {x}')\\n    x=200\\n    print(f'after changing global x, is {x}')\",\n",
       " '_i11': 'x',\n",
       " '_11': 50,\n",
       " '_i12': 'func',\n",
       " '_12': <function __main__.func()>,\n",
       " '_i13': 'func()',\n",
       " '_i14': 'X',\n",
       " '_i15': 'x',\n",
       " '_15': 200,\n",
       " '_i16': 'global()',\n",
       " '_i17': 'globals()'}"
      ]
     },
     "execution_count": 17,
     "metadata": {},
     "output_type": "execute_result"
    }
   ],
   "source": [
    "globals()"
   ]
  },
  {
   "cell_type": "code",
   "execution_count": 18,
   "metadata": {},
   "outputs": [
    {
     "data": {
      "text/plain": [
       "{'__name__': '__main__',\n",
       " '__doc__': 'Automatically created module for IPython interactive environment',\n",
       " '__package__': None,\n",
       " '__loader__': None,\n",
       " '__spec__': None,\n",
       " '__builtin__': <module 'builtins' (built-in)>,\n",
       " '__builtins__': <module 'builtins' (built-in)>,\n",
       " '_ih': ['',\n",
       "  \"name='global'\\n\\ndef greet():\\n    name='enclosing'\\n    \\n    def hello():\\n        name='local'\\n        print('hello'+name)\\n    hello()\",\n",
       "  'greet()',\n",
       "  \"name='global'\\n\\ndef greet():\\n    name='enclosing'\\n    \\n    def hello():\\n        name='local'\\n        print('hello '+name)\\n    hello()\",\n",
       "  'greet()',\n",
       "  \"name='global'\\n\\ndef greet():\\n    name='enclosing'\\n    \\n    def hello():\\n        #name='local'\\n        print('hello '+name)\\n    hello()\",\n",
       "  'greet()',\n",
       "  \"name='global'\\n\\ndef greet():\\n    # name='enclosing'\\n    \\n    def hello():\\n        #name='local'\\n        print('hello '+name)\\n    hello()\",\n",
       "  'greet()',\n",
       "  \"x=50\\ndef func():\\n    global x\\n    print(f'x is {x}')\",\n",
       "  \"x=50\\ndef func():\\n    global x\\n    print(f'x is {x}')\\n    x=200\\n    print(f'after changing global x, is {x}')\",\n",
       "  'x',\n",
       "  'func',\n",
       "  'func()',\n",
       "  'X',\n",
       "  'x',\n",
       "  'global()',\n",
       "  'globals()',\n",
       "  'locals()'],\n",
       " '_oh': {11: 50, 12: <function __main__.func()>, 15: 200, 17: {...}},\n",
       " '_dh': ['C:\\\\Users\\\\lohit\\\\Documents\\\\Python Scripts\\\\playground\\\\section6'],\n",
       " 'In': ['',\n",
       "  \"name='global'\\n\\ndef greet():\\n    name='enclosing'\\n    \\n    def hello():\\n        name='local'\\n        print('hello'+name)\\n    hello()\",\n",
       "  'greet()',\n",
       "  \"name='global'\\n\\ndef greet():\\n    name='enclosing'\\n    \\n    def hello():\\n        name='local'\\n        print('hello '+name)\\n    hello()\",\n",
       "  'greet()',\n",
       "  \"name='global'\\n\\ndef greet():\\n    name='enclosing'\\n    \\n    def hello():\\n        #name='local'\\n        print('hello '+name)\\n    hello()\",\n",
       "  'greet()',\n",
       "  \"name='global'\\n\\ndef greet():\\n    # name='enclosing'\\n    \\n    def hello():\\n        #name='local'\\n        print('hello '+name)\\n    hello()\",\n",
       "  'greet()',\n",
       "  \"x=50\\ndef func():\\n    global x\\n    print(f'x is {x}')\",\n",
       "  \"x=50\\ndef func():\\n    global x\\n    print(f'x is {x}')\\n    x=200\\n    print(f'after changing global x, is {x}')\",\n",
       "  'x',\n",
       "  'func',\n",
       "  'func()',\n",
       "  'X',\n",
       "  'x',\n",
       "  'global()',\n",
       "  'globals()',\n",
       "  'locals()'],\n",
       " 'Out': {11: 50, 12: <function __main__.func()>, 15: 200, 17: {...}},\n",
       " 'get_ipython': <bound method InteractiveShell.get_ipython of <ipykernel.zmqshell.ZMQInteractiveShell object at 0x000001F25CA690A0>>,\n",
       " 'exit': <IPython.core.autocall.ZMQExitAutocall at 0x1f25cb0dd90>,\n",
       " 'quit': <IPython.core.autocall.ZMQExitAutocall at 0x1f25cb0dd90>,\n",
       " '_': {...},\n",
       " '__': 200,\n",
       " '___': <function __main__.func()>,\n",
       " '_i': 'globals()',\n",
       " '_ii': 'global()',\n",
       " '_iii': 'x',\n",
       " '_i1': \"name='global'\\n\\ndef greet():\\n    name='enclosing'\\n    \\n    def hello():\\n        name='local'\\n        print('hello'+name)\\n    hello()\",\n",
       " 'name': 'global',\n",
       " 'greet': <function __main__.greet()>,\n",
       " '_i2': 'greet()',\n",
       " '_i3': \"name='global'\\n\\ndef greet():\\n    name='enclosing'\\n    \\n    def hello():\\n        name='local'\\n        print('hello '+name)\\n    hello()\",\n",
       " '_i4': 'greet()',\n",
       " '_i5': \"name='global'\\n\\ndef greet():\\n    name='enclosing'\\n    \\n    def hello():\\n        #name='local'\\n        print('hello '+name)\\n    hello()\",\n",
       " '_i6': 'greet()',\n",
       " '_i7': \"name='global'\\n\\ndef greet():\\n    # name='enclosing'\\n    \\n    def hello():\\n        #name='local'\\n        print('hello '+name)\\n    hello()\",\n",
       " '_i8': 'greet()',\n",
       " '_i9': \"x=50\\ndef func():\\n    global x\\n    print(f'x is {x}')\",\n",
       " 'x': 200,\n",
       " 'func': <function __main__.func()>,\n",
       " '_i10': \"x=50\\ndef func():\\n    global x\\n    print(f'x is {x}')\\n    x=200\\n    print(f'after changing global x, is {x}')\",\n",
       " '_i11': 'x',\n",
       " '_11': 50,\n",
       " '_i12': 'func',\n",
       " '_12': <function __main__.func()>,\n",
       " '_i13': 'func()',\n",
       " '_i14': 'X',\n",
       " '_i15': 'x',\n",
       " '_15': 200,\n",
       " '_i16': 'global()',\n",
       " '_i17': 'globals()',\n",
       " '_17': {...},\n",
       " '_i18': 'locals()'}"
      ]
     },
     "execution_count": 18,
     "metadata": {},
     "output_type": "execute_result"
    }
   ],
   "source": [
    "locals()"
   ]
  },
  {
   "cell_type": "code",
   "execution_count": null,
   "metadata": {},
   "outputs": [],
   "source": []
  }
 ],
 "metadata": {
  "kernelspec": {
   "display_name": "Python 3",
   "language": "python",
   "name": "python3"
  },
  "language_info": {
   "codemirror_mode": {
    "name": "ipython",
    "version": 3
   },
   "file_extension": ".py",
   "mimetype": "text/x-python",
   "name": "python",
   "nbconvert_exporter": "python",
   "pygments_lexer": "ipython3",
   "version": "3.8.3"
  }
 },
 "nbformat": 4,
 "nbformat_minor": 4
}
