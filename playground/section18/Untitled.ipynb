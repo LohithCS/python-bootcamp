{
 "cells": [
  {
   "cell_type": "code",
   "execution_count": 1,
   "metadata": {},
   "outputs": [],
   "source": [
    "import imaplib\n",
    "import getpass"
   ]
  },
  {
   "cell_type": "code",
   "execution_count": 2,
   "metadata": {},
   "outputs": [],
   "source": [
    "M = imaplib.IMAP4_SSL('imap.gmail.com')"
   ]
  },
  {
   "cell_type": "code",
   "execution_count": 3,
   "metadata": {},
   "outputs": [
    {
     "name": "stdout",
     "output_type": "stream",
     "text": [
      "enter mail id :lohithcs76@gmail.com\n",
      "enter your password········\n"
     ]
    },
    {
     "data": {
      "text/plain": [
       "('OK', [b'lohithcs76@gmail.com authenticated (Success)'])"
      ]
     },
     "execution_count": 3,
     "metadata": {},
     "output_type": "execute_result"
    }
   ],
   "source": [
    "email = input(\"enter mail id :\")\n",
    "password = getpass.getpass(\"enter your password\")\n",
    "M.login(email,password)"
   ]
  },
  {
   "cell_type": "code",
   "execution_count": 4,
   "metadata": {},
   "outputs": [
    {
     "data": {
      "text/plain": [
       "('OK',\n",
       " [b'(\\\\HasNoChildren) \"/\" \"INBOX\"',\n",
       "  b'(\\\\HasNoChildren) \"/\" \"Junk\"',\n",
       "  b'(\\\\HasChildren \\\\Noselect) \"/\" \"[Gmail]\"',\n",
       "  b'(\\\\All \\\\HasNoChildren) \"/\" \"[Gmail]/All Mail\"',\n",
       "  b'(\\\\Drafts \\\\HasNoChildren) \"/\" \"[Gmail]/Drafts\"',\n",
       "  b'(\\\\HasNoChildren \\\\Important) \"/\" \"[Gmail]/Important\"',\n",
       "  b'(\\\\HasNoChildren \\\\Sent) \"/\" \"[Gmail]/Sent Mail\"',\n",
       "  b'(\\\\HasNoChildren \\\\Junk) \"/\" \"[Gmail]/Spam\"',\n",
       "  b'(\\\\Flagged \\\\HasNoChildren) \"/\" \"[Gmail]/Starred\"',\n",
       "  b'(\\\\HasNoChildren \\\\Trash) \"/\" \"[Gmail]/Trash\"'])"
      ]
     },
     "execution_count": 4,
     "metadata": {},
     "output_type": "execute_result"
    }
   ],
   "source": [
    "M.list()"
   ]
  },
  {
   "cell_type": "code",
   "execution_count": 5,
   "metadata": {},
   "outputs": [
    {
     "data": {
      "text/plain": [
       "('OK', [b'21468'])"
      ]
     },
     "execution_count": 5,
     "metadata": {},
     "output_type": "execute_result"
    }
   ],
   "source": [
    "M.select('inbox')"
   ]
  },
  {
   "cell_type": "code",
   "execution_count": 26,
   "metadata": {},
   "outputs": [],
   "source": [
    "typ, data = M.search(None, 'SUBJECT \"Hathway - OTP Confirmation\"')"
   ]
  },
  {
   "cell_type": "code",
   "execution_count": 27,
   "metadata": {},
   "outputs": [
    {
     "data": {
      "text/plain": [
       "[b'17967 18126 18213 18289 19021 19022 19449 19551 20392 21064 21065 21241 21242 21245 21290']"
      ]
     },
     "execution_count": 27,
     "metadata": {},
     "output_type": "execute_result"
    }
   ],
   "source": [
    "data"
   ]
  },
  {
   "cell_type": "code",
   "execution_count": 31,
   "metadata": {},
   "outputs": [
    {
     "data": {
      "text/plain": [
       "b'17967 18126 18213 18289 19021 19022 19449 19551 20392 21064 21065 21241 21242 21245 21290'"
      ]
     },
     "execution_count": 31,
     "metadata": {},
     "output_type": "execute_result"
    }
   ],
   "source": [
    "email_id = data[0]\n",
    "email_id"
   ]
  },
  {
   "cell_type": "code",
   "execution_count": 57,
   "metadata": {},
   "outputs": [],
   "source": [
    "result, email_data = M.fetch('21242',\"(RFC822)\")"
   ]
  },
  {
   "cell_type": "code",
   "execution_count": 58,
   "metadata": {},
   "outputs": [
    {
     "data": {
      "text/plain": [
       "[(b'21242 (RFC822 {4650}',\n",
       "  b'Delivered-To: lohithcs76@gmail.com\\r\\nReceived: by 2002:ab0:2803:0:0:0:0:0 with SMTP id w3csp3632493uap;\\r\\n        Tue, 18 Aug 2020 08:47:08 -0700 (PDT)\\r\\nX-Google-Smtp-Source: ABdhPJyIna1DIw56ofBEyJtgYwXU8v2/xj9rNee8a1uw+bleyn3G4XjvqNWCaEUcMI51x/IHj3Nv\\r\\nX-Received: by 2002:ad4:4152:: with SMTP id z18mr20119150qvp.42.1597765628294;\\r\\n        Tue, 18 Aug 2020 08:47:08 -0700 (PDT)\\r\\nARC-Seal: i=1; a=rsa-sha256; t=1597765628; cv=none;\\r\\n        d=google.com; s=arc-20160816;\\r\\n        b=xNFOh29EHiyY3lIV43BuaxzfZw7RiOkYFtzRBHXBh+L+okJ9RmHlKYdq5z/Lo3ycei\\r\\n         921HmAEKqhz92sny/FIj0D/Odj8KdSM26znTsZLrOrzEv0gnfyyxm6eJEueYhtzYBPaA\\r\\n         wzAz9j3dbum//r5YqbPMVxHcbIudE8i4kVrrtNau8nSk6IMC5sZy28DFSm3dQhqFXrjR\\r\\n         x4S1onIpCHQXGvzZdZDxXhSNyT8cUiD2q/y7fE27Fu6PDbMaLXVBGFYUhk5qNt0wizAB\\r\\n         OqtWLhdOQkRyGCQkyTLW6oGKWjn8rZuAsEeDQd/FELJZxdqbHPAXMq/4nwq6F+rN2a0L\\r\\n         4sAA==\\r\\nARC-Message-Signature: i=1; a=rsa-sha256; c=relaxed/relaxed; d=google.com; s=arc-20160816;\\r\\n        h=date:feedback-id:content-transfer-encoding:mime-version:to:from\\r\\n         :subject:message-id:dkim-signature;\\r\\n        bh=r4N8b+I/6u+Ni03tjCkLU8J34kelAOCGUE8SFsZo8Xw=;\\r\\n        b=IVaUQtwZIjxZFO+orQIDH/H2Dvb/K/stWNtF+EOoKEGhtxkhfHt+NpGtaRSsOL18t4\\r\\n         yp+cTvJWvvjdy9uM7TXWgQJk9qxf4cYQa34zFgq6BvxzCHqtPYWWMG8kJS3Fv9jV/Sco\\r\\n         7gbzpdWhRWtn8qFK0YnyZDiOrzrGw8BkQ0GYPXWGrWSKSvnTa09h7Mgf0LMDvxkQDW7z\\r\\n         8fdQmbUreEMm/MpZUsCRoctW4mo/HNm/ul/sA6sliM9IoqraDBbQl8gVSAyCQn0kUjyl\\r\\n         P7+gGI1RNKKsQJ/eu8lwIK3uNcV708LvgEZ/UOwbxOMUQk1vuZOt26glmpfD2zea7PhO\\r\\n         zXMw==\\r\\nARC-Authentication-Results: i=1; mx.google.com;\\r\\n       dkim=pass header.i=@hathway.com header.s=fnc header.b=AO6hTBiY;\\r\\n       spf=pass (google.com: domain of 15976890107868013-17428-1-gmail.com@transmail.ftrans01.com designates 175.158.64.94 as permitted sender) smtp.mailfrom=15976890107868013-17428-1-gmail.com@transmail.ftrans01.com;\\r\\n       dmarc=pass (p=QUARANTINE sp=QUARANTINE dis=NONE) header.from=hathway.com\\r\\nReturn-Path: <15976890107868013-17428-1-gmail.com@transmail.ftrans01.com>\\r\\nReceived: from smtpd.94.acemail.co.in (smtpd.94.acemail.co.in. [175.158.64.94])\\r\\n        by mx.google.com with ESMTPS id s3si13585830qvr.210.2020.08.18.08.47.08\\r\\n        for <lohithcs76@gmail.com>\\r\\n        (version=TLS1_2 cipher=ECDHE-ECDSA-AES128-GCM-SHA256 bits=128/128);\\r\\n        Tue, 18 Aug 2020 08:47:08 -0700 (PDT)\\r\\nReceived-SPF: pass (google.com: domain of 15976890107868013-17428-1-gmail.com@transmail.ftrans01.com designates 175.158.64.94 as permitted sender) client-ip=175.158.64.94;\\r\\nAuthentication-Results: mx.google.com;\\r\\n       dkim=pass header.i=@hathway.com header.s=fnc header.b=AO6hTBiY;\\r\\n       spf=pass (google.com: domain of 15976890107868013-17428-1-gmail.com@transmail.ftrans01.com designates 175.158.64.94 as permitted sender) smtp.mailfrom=15976890107868013-17428-1-gmail.com@transmail.ftrans01.com;\\r\\n       dmarc=pass (p=QUARANTINE sp=QUARANTINE dis=NONE) header.from=hathway.com\\r\\nDKIM-Signature: v=1; a=rsa-sha1; c=relaxed/relaxed; s=fnc; d=hathway.com;\\r\\n h=Message-ID:Subject:From:To:MIME-Version:Content-Type:Content-Transfer-Encoding:Date;\\r\\n bh=r9/edSxy9vKoDYzBrP0iIvnJbSE=;\\r\\n b=AO6hTBiYMXYMwuom0ZZeTivm0fUUcMxVTzHpsWWELGsVSS4ueXGd4ovaohUl9AZ9MHVhFEtIUDYW\\r\\n   DVQZZHTP6IxwpKVREMdlLPOhPHrlRsqGYziB8qS8dcgGxt6LgbLZlvBUY4sWRNJq80w3IeaTr9JF\\r\\n   eb+dWHzHSRVCLZR3Uwg=\\r\\nReceived: by smtpd.93.acemail.co.in id h7frvo229vg3 for <lohithcs76@gmail.com>; Tue, 18 Aug 2020 21:17:07 +0530 (envelope-from <15976890107868013-17428-1-gmail.com@transmail.ftrans01.com>)\\r\\nMessage-ID: <9124ec0af643c55e2f53664ea9d7caf2@ispselfcareadmin.hathway.net>\\r\\nSubject: Hathway - OTP Confirmation\\r\\nFrom: Hathway ISP Selfcare <noreply@hathway.com>\\r\\nTo: lohithcs76@gmail.com\\r\\nMIME-Version: 1.0\\r\\nContent-Type: text/html; charset=utf-8\\r\\nContent-Transfer-Encoding: quoted-printable\\r\\nFeedback-ID: MTc0Mjg6MjAyMDA4MThfMjE6:pepipostE\\r\\nX-Abuse-Reports-To: abuse@delivery.hathwayconnect.in\\r\\nX-FNCID: 17428-15976890107868013-0\\r\\nX-Traffic-Type: 17428-3\\r\\nDate: Tue, 18 Aug 2020 21:17:08 +0530\\r\\n\\r\\n<html>=0A=\\r\\n<body>=0A=\\r\\n<p>=0A=\\r\\n<div>=0A=\\r\\nDear Lohith,=0A=\\r\\n<br>=0A=\\r\\n<br>=0A=\\r\\n    <div style=3D\"text-align:left;\">=0A=\\r\\n    Your One Time Password (OTP) is 578863. This OTP will be valid for next=\\r\\n 5 mins.=0A=\\r\\n    </div>=0A=\\r\\n<br>=0A=\\r\\nThanks,=0A=\\r\\n<br>=0A=\\r\\nHathway Team.=0A=\\r\\n</p>=0A=\\r\\n</div>=0A=\\r\\n=0A=\\r\\n<p>&nbsp;<br></p>=0A=\\r\\n<img id=3D\\'SBBBB\\' src=3D\\'http://transmail.ftrans01.com/RABTUYGVWCMF?id=3D17=\\r\\n428=3DLk1SVFNWAgYMTAQHAAEIVQVTAUQ=3DDQoLCkxdUEVWBiZfDFALCEwCWVlIAQEOBwcAXAV=\\r\\nSAQ9ZU1tTCQZPXhVEFgJOHhYWAw9FWVVZWBlWRUoEWxABCU8GDA4XZ3J0NWU/fzdmISkkXl9QSE=\\r\\nYG\\' /></body>=0A=\\r\\n</html>=0A=\\r\\n=0A=\\r\\n\\r\\n'),\n",
       " b')']"
      ]
     },
     "execution_count": 58,
     "metadata": {},
     "output_type": "execute_result"
    }
   ],
   "source": [
    "email_data"
   ]
  },
  {
   "cell_type": "code",
   "execution_count": 59,
   "metadata": {},
   "outputs": [],
   "source": [
    "raw_email=email_data[0][1]"
   ]
  },
  {
   "cell_type": "code",
   "execution_count": 60,
   "metadata": {},
   "outputs": [
    {
     "data": {
      "text/plain": [
       "b'Delivered-To: lohithcs76@gmail.com\\r\\nReceived: by 2002:ab0:2803:0:0:0:0:0 with SMTP id w3csp3632493uap;\\r\\n        Tue, 18 Aug 2020 08:47:08 -0700 (PDT)\\r\\nX-Google-Smtp-Source: ABdhPJyIna1DIw56ofBEyJtgYwXU8v2/xj9rNee8a1uw+bleyn3G4XjvqNWCaEUcMI51x/IHj3Nv\\r\\nX-Received: by 2002:ad4:4152:: with SMTP id z18mr20119150qvp.42.1597765628294;\\r\\n        Tue, 18 Aug 2020 08:47:08 -0700 (PDT)\\r\\nARC-Seal: i=1; a=rsa-sha256; t=1597765628; cv=none;\\r\\n        d=google.com; s=arc-20160816;\\r\\n        b=xNFOh29EHiyY3lIV43BuaxzfZw7RiOkYFtzRBHXBh+L+okJ9RmHlKYdq5z/Lo3ycei\\r\\n         921HmAEKqhz92sny/FIj0D/Odj8KdSM26znTsZLrOrzEv0gnfyyxm6eJEueYhtzYBPaA\\r\\n         wzAz9j3dbum//r5YqbPMVxHcbIudE8i4kVrrtNau8nSk6IMC5sZy28DFSm3dQhqFXrjR\\r\\n         x4S1onIpCHQXGvzZdZDxXhSNyT8cUiD2q/y7fE27Fu6PDbMaLXVBGFYUhk5qNt0wizAB\\r\\n         OqtWLhdOQkRyGCQkyTLW6oGKWjn8rZuAsEeDQd/FELJZxdqbHPAXMq/4nwq6F+rN2a0L\\r\\n         4sAA==\\r\\nARC-Message-Signature: i=1; a=rsa-sha256; c=relaxed/relaxed; d=google.com; s=arc-20160816;\\r\\n        h=date:feedback-id:content-transfer-encoding:mime-version:to:from\\r\\n         :subject:message-id:dkim-signature;\\r\\n        bh=r4N8b+I/6u+Ni03tjCkLU8J34kelAOCGUE8SFsZo8Xw=;\\r\\n        b=IVaUQtwZIjxZFO+orQIDH/H2Dvb/K/stWNtF+EOoKEGhtxkhfHt+NpGtaRSsOL18t4\\r\\n         yp+cTvJWvvjdy9uM7TXWgQJk9qxf4cYQa34zFgq6BvxzCHqtPYWWMG8kJS3Fv9jV/Sco\\r\\n         7gbzpdWhRWtn8qFK0YnyZDiOrzrGw8BkQ0GYPXWGrWSKSvnTa09h7Mgf0LMDvxkQDW7z\\r\\n         8fdQmbUreEMm/MpZUsCRoctW4mo/HNm/ul/sA6sliM9IoqraDBbQl8gVSAyCQn0kUjyl\\r\\n         P7+gGI1RNKKsQJ/eu8lwIK3uNcV708LvgEZ/UOwbxOMUQk1vuZOt26glmpfD2zea7PhO\\r\\n         zXMw==\\r\\nARC-Authentication-Results: i=1; mx.google.com;\\r\\n       dkim=pass header.i=@hathway.com header.s=fnc header.b=AO6hTBiY;\\r\\n       spf=pass (google.com: domain of 15976890107868013-17428-1-gmail.com@transmail.ftrans01.com designates 175.158.64.94 as permitted sender) smtp.mailfrom=15976890107868013-17428-1-gmail.com@transmail.ftrans01.com;\\r\\n       dmarc=pass (p=QUARANTINE sp=QUARANTINE dis=NONE) header.from=hathway.com\\r\\nReturn-Path: <15976890107868013-17428-1-gmail.com@transmail.ftrans01.com>\\r\\nReceived: from smtpd.94.acemail.co.in (smtpd.94.acemail.co.in. [175.158.64.94])\\r\\n        by mx.google.com with ESMTPS id s3si13585830qvr.210.2020.08.18.08.47.08\\r\\n        for <lohithcs76@gmail.com>\\r\\n        (version=TLS1_2 cipher=ECDHE-ECDSA-AES128-GCM-SHA256 bits=128/128);\\r\\n        Tue, 18 Aug 2020 08:47:08 -0700 (PDT)\\r\\nReceived-SPF: pass (google.com: domain of 15976890107868013-17428-1-gmail.com@transmail.ftrans01.com designates 175.158.64.94 as permitted sender) client-ip=175.158.64.94;\\r\\nAuthentication-Results: mx.google.com;\\r\\n       dkim=pass header.i=@hathway.com header.s=fnc header.b=AO6hTBiY;\\r\\n       spf=pass (google.com: domain of 15976890107868013-17428-1-gmail.com@transmail.ftrans01.com designates 175.158.64.94 as permitted sender) smtp.mailfrom=15976890107868013-17428-1-gmail.com@transmail.ftrans01.com;\\r\\n       dmarc=pass (p=QUARANTINE sp=QUARANTINE dis=NONE) header.from=hathway.com\\r\\nDKIM-Signature: v=1; a=rsa-sha1; c=relaxed/relaxed; s=fnc; d=hathway.com;\\r\\n h=Message-ID:Subject:From:To:MIME-Version:Content-Type:Content-Transfer-Encoding:Date;\\r\\n bh=r9/edSxy9vKoDYzBrP0iIvnJbSE=;\\r\\n b=AO6hTBiYMXYMwuom0ZZeTivm0fUUcMxVTzHpsWWELGsVSS4ueXGd4ovaohUl9AZ9MHVhFEtIUDYW\\r\\n   DVQZZHTP6IxwpKVREMdlLPOhPHrlRsqGYziB8qS8dcgGxt6LgbLZlvBUY4sWRNJq80w3IeaTr9JF\\r\\n   eb+dWHzHSRVCLZR3Uwg=\\r\\nReceived: by smtpd.93.acemail.co.in id h7frvo229vg3 for <lohithcs76@gmail.com>; Tue, 18 Aug 2020 21:17:07 +0530 (envelope-from <15976890107868013-17428-1-gmail.com@transmail.ftrans01.com>)\\r\\nMessage-ID: <9124ec0af643c55e2f53664ea9d7caf2@ispselfcareadmin.hathway.net>\\r\\nSubject: Hathway - OTP Confirmation\\r\\nFrom: Hathway ISP Selfcare <noreply@hathway.com>\\r\\nTo: lohithcs76@gmail.com\\r\\nMIME-Version: 1.0\\r\\nContent-Type: text/html; charset=utf-8\\r\\nContent-Transfer-Encoding: quoted-printable\\r\\nFeedback-ID: MTc0Mjg6MjAyMDA4MThfMjE6:pepipostE\\r\\nX-Abuse-Reports-To: abuse@delivery.hathwayconnect.in\\r\\nX-FNCID: 17428-15976890107868013-0\\r\\nX-Traffic-Type: 17428-3\\r\\nDate: Tue, 18 Aug 2020 21:17:08 +0530\\r\\n\\r\\n<html>=0A=\\r\\n<body>=0A=\\r\\n<p>=0A=\\r\\n<div>=0A=\\r\\nDear Lohith,=0A=\\r\\n<br>=0A=\\r\\n<br>=0A=\\r\\n    <div style=3D\"text-align:left;\">=0A=\\r\\n    Your One Time Password (OTP) is 578863. This OTP will be valid for next=\\r\\n 5 mins.=0A=\\r\\n    </div>=0A=\\r\\n<br>=0A=\\r\\nThanks,=0A=\\r\\n<br>=0A=\\r\\nHathway Team.=0A=\\r\\n</p>=0A=\\r\\n</div>=0A=\\r\\n=0A=\\r\\n<p>&nbsp;<br></p>=0A=\\r\\n<img id=3D\\'SBBBB\\' src=3D\\'http://transmail.ftrans01.com/RABTUYGVWCMF?id=3D17=\\r\\n428=3DLk1SVFNWAgYMTAQHAAEIVQVTAUQ=3DDQoLCkxdUEVWBiZfDFALCEwCWVlIAQEOBwcAXAV=\\r\\nSAQ9ZU1tTCQZPXhVEFgJOHhYWAw9FWVVZWBlWRUoEWxABCU8GDA4XZ3J0NWU/fzdmISkkXl9QSE=\\r\\nYG\\' /></body>=0A=\\r\\n</html>=0A=\\r\\n=0A=\\r\\n\\r\\n'"
      ]
     },
     "execution_count": 60,
     "metadata": {},
     "output_type": "execute_result"
    }
   ],
   "source": [
    "raw_email"
   ]
  },
  {
   "cell_type": "code",
   "execution_count": 61,
   "metadata": {},
   "outputs": [
    {
     "data": {
      "text/plain": [
       "'Delivered-To: lohithcs76@gmail.com\\r\\nReceived: by 2002:ab0:2803:0:0:0:0:0 with SMTP id w3csp3632493uap;\\r\\n        Tue, 18 Aug 2020 08:47:08 -0700 (PDT)\\r\\nX-Google-Smtp-Source: ABdhPJyIna1DIw56ofBEyJtgYwXU8v2/xj9rNee8a1uw+bleyn3G4XjvqNWCaEUcMI51x/IHj3Nv\\r\\nX-Received: by 2002:ad4:4152:: with SMTP id z18mr20119150qvp.42.1597765628294;\\r\\n        Tue, 18 Aug 2020 08:47:08 -0700 (PDT)\\r\\nARC-Seal: i=1; a=rsa-sha256; t=1597765628; cv=none;\\r\\n        d=google.com; s=arc-20160816;\\r\\n        b=xNFOh29EHiyY3lIV43BuaxzfZw7RiOkYFtzRBHXBh+L+okJ9RmHlKYdq5z/Lo3ycei\\r\\n         921HmAEKqhz92sny/FIj0D/Odj8KdSM26znTsZLrOrzEv0gnfyyxm6eJEueYhtzYBPaA\\r\\n         wzAz9j3dbum//r5YqbPMVxHcbIudE8i4kVrrtNau8nSk6IMC5sZy28DFSm3dQhqFXrjR\\r\\n         x4S1onIpCHQXGvzZdZDxXhSNyT8cUiD2q/y7fE27Fu6PDbMaLXVBGFYUhk5qNt0wizAB\\r\\n         OqtWLhdOQkRyGCQkyTLW6oGKWjn8rZuAsEeDQd/FELJZxdqbHPAXMq/4nwq6F+rN2a0L\\r\\n         4sAA==\\r\\nARC-Message-Signature: i=1; a=rsa-sha256; c=relaxed/relaxed; d=google.com; s=arc-20160816;\\r\\n        h=date:feedback-id:content-transfer-encoding:mime-version:to:from\\r\\n         :subject:message-id:dkim-signature;\\r\\n        bh=r4N8b+I/6u+Ni03tjCkLU8J34kelAOCGUE8SFsZo8Xw=;\\r\\n        b=IVaUQtwZIjxZFO+orQIDH/H2Dvb/K/stWNtF+EOoKEGhtxkhfHt+NpGtaRSsOL18t4\\r\\n         yp+cTvJWvvjdy9uM7TXWgQJk9qxf4cYQa34zFgq6BvxzCHqtPYWWMG8kJS3Fv9jV/Sco\\r\\n         7gbzpdWhRWtn8qFK0YnyZDiOrzrGw8BkQ0GYPXWGrWSKSvnTa09h7Mgf0LMDvxkQDW7z\\r\\n         8fdQmbUreEMm/MpZUsCRoctW4mo/HNm/ul/sA6sliM9IoqraDBbQl8gVSAyCQn0kUjyl\\r\\n         P7+gGI1RNKKsQJ/eu8lwIK3uNcV708LvgEZ/UOwbxOMUQk1vuZOt26glmpfD2zea7PhO\\r\\n         zXMw==\\r\\nARC-Authentication-Results: i=1; mx.google.com;\\r\\n       dkim=pass header.i=@hathway.com header.s=fnc header.b=AO6hTBiY;\\r\\n       spf=pass (google.com: domain of 15976890107868013-17428-1-gmail.com@transmail.ftrans01.com designates 175.158.64.94 as permitted sender) smtp.mailfrom=15976890107868013-17428-1-gmail.com@transmail.ftrans01.com;\\r\\n       dmarc=pass (p=QUARANTINE sp=QUARANTINE dis=NONE) header.from=hathway.com\\r\\nReturn-Path: <15976890107868013-17428-1-gmail.com@transmail.ftrans01.com>\\r\\nReceived: from smtpd.94.acemail.co.in (smtpd.94.acemail.co.in. [175.158.64.94])\\r\\n        by mx.google.com with ESMTPS id s3si13585830qvr.210.2020.08.18.08.47.08\\r\\n        for <lohithcs76@gmail.com>\\r\\n        (version=TLS1_2 cipher=ECDHE-ECDSA-AES128-GCM-SHA256 bits=128/128);\\r\\n        Tue, 18 Aug 2020 08:47:08 -0700 (PDT)\\r\\nReceived-SPF: pass (google.com: domain of 15976890107868013-17428-1-gmail.com@transmail.ftrans01.com designates 175.158.64.94 as permitted sender) client-ip=175.158.64.94;\\r\\nAuthentication-Results: mx.google.com;\\r\\n       dkim=pass header.i=@hathway.com header.s=fnc header.b=AO6hTBiY;\\r\\n       spf=pass (google.com: domain of 15976890107868013-17428-1-gmail.com@transmail.ftrans01.com designates 175.158.64.94 as permitted sender) smtp.mailfrom=15976890107868013-17428-1-gmail.com@transmail.ftrans01.com;\\r\\n       dmarc=pass (p=QUARANTINE sp=QUARANTINE dis=NONE) header.from=hathway.com\\r\\nDKIM-Signature: v=1; a=rsa-sha1; c=relaxed/relaxed; s=fnc; d=hathway.com;\\r\\n h=Message-ID:Subject:From:To:MIME-Version:Content-Type:Content-Transfer-Encoding:Date;\\r\\n bh=r9/edSxy9vKoDYzBrP0iIvnJbSE=;\\r\\n b=AO6hTBiYMXYMwuom0ZZeTivm0fUUcMxVTzHpsWWELGsVSS4ueXGd4ovaohUl9AZ9MHVhFEtIUDYW\\r\\n   DVQZZHTP6IxwpKVREMdlLPOhPHrlRsqGYziB8qS8dcgGxt6LgbLZlvBUY4sWRNJq80w3IeaTr9JF\\r\\n   eb+dWHzHSRVCLZR3Uwg=\\r\\nReceived: by smtpd.93.acemail.co.in id h7frvo229vg3 for <lohithcs76@gmail.com>; Tue, 18 Aug 2020 21:17:07 +0530 (envelope-from <15976890107868013-17428-1-gmail.com@transmail.ftrans01.com>)\\r\\nMessage-ID: <9124ec0af643c55e2f53664ea9d7caf2@ispselfcareadmin.hathway.net>\\r\\nSubject: Hathway - OTP Confirmation\\r\\nFrom: Hathway ISP Selfcare <noreply@hathway.com>\\r\\nTo: lohithcs76@gmail.com\\r\\nMIME-Version: 1.0\\r\\nContent-Type: text/html; charset=utf-8\\r\\nContent-Transfer-Encoding: quoted-printable\\r\\nFeedback-ID: MTc0Mjg6MjAyMDA4MThfMjE6:pepipostE\\r\\nX-Abuse-Reports-To: abuse@delivery.hathwayconnect.in\\r\\nX-FNCID: 17428-15976890107868013-0\\r\\nX-Traffic-Type: 17428-3\\r\\nDate: Tue, 18 Aug 2020 21:17:08 +0530\\r\\n\\r\\n<html>=0A=\\r\\n<body>=0A=\\r\\n<p>=0A=\\r\\n<div>=0A=\\r\\nDear Lohith,=0A=\\r\\n<br>=0A=\\r\\n<br>=0A=\\r\\n    <div style=3D\"text-align:left;\">=0A=\\r\\n    Your One Time Password (OTP) is 578863. This OTP will be valid for next=\\r\\n 5 mins.=0A=\\r\\n    </div>=0A=\\r\\n<br>=0A=\\r\\nThanks,=0A=\\r\\n<br>=0A=\\r\\nHathway Team.=0A=\\r\\n</p>=0A=\\r\\n</div>=0A=\\r\\n=0A=\\r\\n<p>&nbsp;<br></p>=0A=\\r\\n<img id=3D\\'SBBBB\\' src=3D\\'http://transmail.ftrans01.com/RABTUYGVWCMF?id=3D17=\\r\\n428=3DLk1SVFNWAgYMTAQHAAEIVQVTAUQ=3DDQoLCkxdUEVWBiZfDFALCEwCWVlIAQEOBwcAXAV=\\r\\nSAQ9ZU1tTCQZPXhVEFgJOHhYWAw9FWVVZWBlWRUoEWxABCU8GDA4XZ3J0NWU/fzdmISkkXl9QSE=\\r\\nYG\\' /></body>=0A=\\r\\n</html>=0A=\\r\\n=0A=\\r\\n\\r\\n'"
      ]
     },
     "execution_count": 61,
     "metadata": {},
     "output_type": "execute_result"
    }
   ],
   "source": [
    "raw_email_string = raw_email.decode('utf-8')\n",
    "raw_email_string"
   ]
  },
  {
   "cell_type": "code",
   "execution_count": 62,
   "metadata": {},
   "outputs": [],
   "source": [
    "import email"
   ]
  },
  {
   "cell_type": "code",
   "execution_count": 84,
   "metadata": {},
   "outputs": [],
   "source": [
    "email_message = email.message_from_string(raw_email_string)"
   ]
  },
  {
   "cell_type": "code",
   "execution_count": 88,
   "metadata": {},
   "outputs": [
    {
     "data": {
      "text/plain": [
       "<email.message.Message at 0x25b2e4c3c40>"
      ]
     },
     "execution_count": 88,
     "metadata": {},
     "output_type": "execute_result"
    }
   ],
   "source": [
    "email_message"
   ]
  },
  {
   "cell_type": "code",
   "execution_count": 80,
   "metadata": {},
   "outputs": [
    {
     "name": "stdout",
     "output_type": "stream",
     "text": [
      "b'<html>\\n<body>\\n<p>\\n<div>\\nDear Lohith,\\n<br>\\n<br>\\n    <div style=\"text-align:left;\">\\n    Your One Time Password (OTP) is 578863. This OTP will be valid for next 5 mins.\\n    </div>\\n<br>\\nThanks,\\n<br>\\nHathway Team.\\n</p>\\n</div>\\n\\n<p>&nbsp;<br></p>\\n<img id=\\'SBBBB\\' src=\\'http://transmail.ftrans01.com/RABTUYGVWCMF?id=17428=Lk1SVFNWAgYMTAQHAAEIVQVTAUQ=DQoLCkxdUEVWBiZfDFALCEwCWVlIAQEOBwcAXAVSAQ9ZU1tTCQZPXhVEFgJOHhYWAw9FWVVZWBlWRUoEWxABCU8GDA4XZ3J0NWU/fzdmISkkXl9QSEYG\\' /></body>\\n</html>\\n\\n\\r\\n'\n"
     ]
    }
   ],
   "source": [
    "for part in email_message.walk():\n",
    "    if part.get_content_type()== \"text/html\":\n",
    "        body = part.get_payload(decode= True)\n",
    "        print(body)"
   ]
  },
  {
   "cell_type": "code",
   "execution_count": 81,
   "metadata": {},
   "outputs": [
    {
     "data": {
      "text/plain": [
       "bytes"
      ]
     },
     "execution_count": 81,
     "metadata": {},
     "output_type": "execute_result"
    }
   ],
   "source": [
    "type(body)"
   ]
  },
  {
   "cell_type": "code",
   "execution_count": 66,
   "metadata": {},
   "outputs": [],
   "source": [
    "body = str(body,'utf-8')"
   ]
  },
  {
   "cell_type": "code",
   "execution_count": 67,
   "metadata": {},
   "outputs": [
    {
     "data": {
      "text/plain": [
       "'<html>\\n<body>\\n<p>\\n<div>\\nDear Lohith,\\n<br>\\n<br>\\n    <div style=\"text-align:left;\">\\n    Your One Time Password (OTP) is 578863. This OTP will be valid for next 5 mins.\\n    </div>\\n<br>\\nThanks,\\n<br>\\nHathway Team.\\n</p>\\n</div>\\n\\n<p>&nbsp;<br></p>\\n<img id=\\'SBBBB\\' src=\\'http://transmail.ftrans01.com/RABTUYGVWCMF?id=17428=Lk1SVFNWAgYMTAQHAAEIVQVTAUQ=DQoLCkxdUEVWBiZfDFALCEwCWVlIAQEOBwcAXAVSAQ9ZU1tTCQZPXhVEFgJOHhYWAw9FWVVZWBlWRUoEWxABCU8GDA4XZ3J0NWU/fzdmISkkXl9QSEYG\\' /></body>\\n</html>\\n\\n\\r\\n'"
      ]
     },
     "execution_count": 67,
     "metadata": {},
     "output_type": "execute_result"
    }
   ],
   "source": [
    "body\n"
   ]
  },
  {
   "cell_type": "code",
   "execution_count": 82,
   "metadata": {},
   "outputs": [
    {
     "data": {
      "text/plain": [
       "bytes"
      ]
     },
     "execution_count": 82,
     "metadata": {},
     "output_type": "execute_result"
    }
   ],
   "source": [
    "type(body)"
   ]
  },
  {
   "cell_type": "code",
   "execution_count": 78,
   "metadata": {},
   "outputs": [
    {
     "data": {
      "text/plain": [
       "' One Time Password (OTP) is 578863. '"
      ]
     },
     "execution_count": 78,
     "metadata": {},
     "output_type": "execute_result"
    }
   ],
   "source": [
    "body[90:126]"
   ]
  },
  {
   "cell_type": "code",
   "execution_count": 83,
   "metadata": {},
   "outputs": [
    {
     "data": {
      "text/plain": [
       "'<html>\\n<body>\\n<p>\\n<div>\\nDear Lohith,\\n<br>\\n<br>\\n    <div style=\"text-align:left;\">\\n    Your One Time Password (OTP) is 578863. This OTP will be valid for next 5 mins.\\n    </div>\\n<br>\\nThanks,\\n<br>\\nHathway Team.\\n</p>\\n</div>\\n\\n<p>&nbsp;<br></p>\\n<img id=\\'SBBBB\\' src=\\'http://transmail.ftrans01.com/RABTUYGVWCMF?id=17428=Lk1SVFNWAgYMTAQHAAEIVQVTAUQ=DQoLCkxdUEVWBiZfDFALCEwCWVlIAQEOBwcAXAVSAQ9ZU1tTCQZPXhVEFgJOHhYWAw9FWVVZWBlWRUoEWxABCU8GDA4XZ3J0NWU/fzdmISkkXl9QSEYG\\' /></body>\\n</html>\\n\\n\\r\\n'"
      ]
     },
     "execution_count": 83,
     "metadata": {},
     "output_type": "execute_result"
    }
   ],
   "source": [
    "body.decode('utf-8')"
   ]
  },
  {
   "cell_type": "code",
   "execution_count": null,
   "metadata": {},
   "outputs": [],
   "source": []
  }
 ],
 "metadata": {
  "kernelspec": {
   "display_name": "Python 3",
   "language": "python",
   "name": "python3"
  },
  "language_info": {
   "codemirror_mode": {
    "name": "ipython",
    "version": 3
   },
   "file_extension": ".py",
   "mimetype": "text/x-python",
   "name": "python",
   "nbconvert_exporter": "python",
   "pygments_lexer": "ipython3",
   "version": "3.8.3"
  }
 },
 "nbformat": 4,
 "nbformat_minor": 4
}
