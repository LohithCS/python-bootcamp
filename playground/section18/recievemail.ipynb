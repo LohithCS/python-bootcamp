{
 "cells": [
  {
   "cell_type": "code",
   "execution_count": 2,
   "metadata": {},
   "outputs": [],
   "source": [
    "import imaplib\n",
    "import getpass"
   ]
  },
  {
   "cell_type": "code",
   "execution_count": 3,
   "metadata": {},
   "outputs": [],
   "source": [
    "M = imaplib.IMAP4_SSL('imap.gmail.com')"
   ]
  },
  {
   "cell_type": "code",
   "execution_count": 4,
   "metadata": {},
   "outputs": [
    {
     "name": "stdout",
     "output_type": "stream",
     "text": [
      "enter your mail id :lohithcs76@gmail.com\n",
      "enter your APP password: ········\n"
     ]
    }
   ],
   "source": [
    "user_id = input(\"enter your mail id :\")\n",
    "pasword = getpass.getpass(\"enter your APP password: \")"
   ]
  },
  {
   "cell_type": "code",
   "execution_count": 5,
   "metadata": {},
   "outputs": [
    {
     "data": {
      "text/plain": [
       "('OK', [b'lohithcs76@gmail.com authenticated (Success)'])"
      ]
     },
     "execution_count": 5,
     "metadata": {},
     "output_type": "execute_result"
    }
   ],
   "source": [
    "M.login(user_id,pasword)"
   ]
  },
  {
   "cell_type": "code",
   "execution_count": 6,
   "metadata": {},
   "outputs": [
    {
     "data": {
      "text/plain": [
       "('OK',\n",
       " [b'(\\\\HasNoChildren) \"/\" \"INBOX\"',\n",
       "  b'(\\\\HasNoChildren) \"/\" \"Junk\"',\n",
       "  b'(\\\\HasChildren \\\\Noselect) \"/\" \"[Gmail]\"',\n",
       "  b'(\\\\All \\\\HasNoChildren) \"/\" \"[Gmail]/All Mail\"',\n",
       "  b'(\\\\Drafts \\\\HasNoChildren) \"/\" \"[Gmail]/Drafts\"',\n",
       "  b'(\\\\HasNoChildren \\\\Important) \"/\" \"[Gmail]/Important\"',\n",
       "  b'(\\\\HasNoChildren \\\\Sent) \"/\" \"[Gmail]/Sent Mail\"',\n",
       "  b'(\\\\HasNoChildren \\\\Junk) \"/\" \"[Gmail]/Spam\"',\n",
       "  b'(\\\\Flagged \\\\HasNoChildren) \"/\" \"[Gmail]/Starred\"',\n",
       "  b'(\\\\HasNoChildren \\\\Trash) \"/\" \"[Gmail]/Trash\"'])"
      ]
     },
     "execution_count": 6,
     "metadata": {},
     "output_type": "execute_result"
    }
   ],
   "source": [
    "M.list()"
   ]
  },
  {
   "cell_type": "code",
   "execution_count": 7,
   "metadata": {},
   "outputs": [
    {
     "data": {
      "text/plain": [
       "('OK', [b'21467'])"
      ]
     },
     "execution_count": 7,
     "metadata": {},
     "output_type": "execute_result"
    }
   ],
   "source": [
    "M.select('inbox')"
   ]
  },
  {
   "cell_type": "code",
   "execution_count": 8,
   "metadata": {},
   "outputs": [],
   "source": [
    "typ,data = M.search(None, 'SUBJECT \"this is a test email for python\"')"
   ]
  },
  {
   "cell_type": "code",
   "execution_count": 9,
   "metadata": {},
   "outputs": [
    {
     "data": {
      "text/plain": [
       "'OK'"
      ]
     },
     "execution_count": 9,
     "metadata": {},
     "output_type": "execute_result"
    }
   ],
   "source": [
    "typ"
   ]
  },
  {
   "cell_type": "code",
   "execution_count": 10,
   "metadata": {},
   "outputs": [
    {
     "data": {
      "text/plain": [
       "[b'21467']"
      ]
     },
     "execution_count": 10,
     "metadata": {},
     "output_type": "execute_result"
    }
   ],
   "source": [
    "data"
   ]
  },
  {
   "cell_type": "code",
   "execution_count": 11,
   "metadata": {},
   "outputs": [
    {
     "data": {
      "text/plain": [
       "b'21467'"
      ]
     },
     "execution_count": 11,
     "metadata": {},
     "output_type": "execute_result"
    }
   ],
   "source": [
    "data[0]"
   ]
  },
  {
   "cell_type": "code",
   "execution_count": 12,
   "metadata": {},
   "outputs": [],
   "source": [
    "email_id= data[0]"
   ]
  },
  {
   "cell_type": "code",
   "execution_count": 13,
   "metadata": {},
   "outputs": [
    {
     "data": {
      "text/plain": [
       "b'21467'"
      ]
     },
     "execution_count": 13,
     "metadata": {},
     "output_type": "execute_result"
    }
   ],
   "source": [
    "email_id"
   ]
  },
  {
   "cell_type": "code",
   "execution_count": 14,
   "metadata": {},
   "outputs": [],
   "source": [
    "result, email_data = M.fetch(email_id,\"(RFC822)\")"
   ]
  },
  {
   "cell_type": "code",
   "execution_count": 15,
   "metadata": {},
   "outputs": [
    {
     "data": {
      "text/plain": [
       "'OK'"
      ]
     },
     "execution_count": 15,
     "metadata": {},
     "output_type": "execute_result"
    }
   ],
   "source": [
    "result"
   ]
  },
  {
   "cell_type": "code",
   "execution_count": 16,
   "metadata": {},
   "outputs": [
    {
     "data": {
      "text/plain": [
       "[(b'21467 (RFC822 {1066}',\n",
       "  b'MIME-Version: 1.0\\r\\nDate: Wed, 26 Aug 2020 17:19:50 +0530\\r\\nMessage-ID: <CACqXaG57pRC5Be3X8WkqOEaTom=zhG-YD_NwxQ0p52=VDAaaCA@mail.gmail.com>\\r\\nSubject: this is a test email for python\\r\\nFrom: Lohith C S <lohithcs76@gmail.com>\\r\\nTo: Lohith C S <lohithcs76@gmail.com>\\r\\nContent-Type: multipart/alternative; boundary=\"000000000000cf93c605adc66abc\"\\r\\n\\r\\n--000000000000cf93c605adc66abc\\r\\nContent-Type: text/plain; charset=\"UTF-8\"\\r\\n\\r\\nimport imaplib\\r\\nimport getpass\\r\\nM = imaplib.IMAP4_SSL(\\'imap.gmail.com\\')\\r\\nuser = input(\"Enter your email: \")\\r\\npassword = getpass.getpass(\"Enter your password: \")\\r\\nM.login(user,password)\\r\\n\\r\\n--000000000000cf93c605adc66abc\\r\\nContent-Type: text/html; charset=\"UTF-8\"\\r\\nContent-Transfer-Encoding: quoted-printable\\r\\n\\r\\n<div dir=3D\"ltr\">import imaplib<br>import getpass<br>M =3D imaplib.IMAP4_SS=\\r\\nL(&#39;<a href=3D\"http://imap.gmail.com\">imap.gmail.com</a>&#39;)<br>user =\\r\\n=3D input(&quot;Enter your email: &quot;)<br>password =3D getpass.getpass(&=\\r\\nquot;Enter your password: &quot;)<br>M.login(user,password)<br></div>\\r\\n\\r\\n--000000000000cf93c605adc66abc--'),\n",
       " b')']"
      ]
     },
     "execution_count": 16,
     "metadata": {},
     "output_type": "execute_result"
    }
   ],
   "source": [
    "email_data"
   ]
  },
  {
   "cell_type": "code",
   "execution_count": 33,
   "metadata": {},
   "outputs": [
    {
     "data": {
      "text/plain": [
       "b'MIME-Version: 1.0\\r\\nDate: Wed, 26 Aug 2020 17:19:50 +0530\\r\\nMessage-ID: <CACqXaG57pRC5Be3X8WkqOEaTom=zhG-YD_NwxQ0p52=VDAaaCA@mail.gmail.com>\\r\\nSubject: this is a test email for python\\r\\nFrom: Lohith C S <lohithcs76@gmail.com>\\r\\nTo: Lohith C S <lohithcs76@gmail.com>\\r\\nContent-Type: multipart/alternative; boundary=\"000000000000cf93c605adc66abc\"\\r\\n\\r\\n--000000000000cf93c605adc66abc\\r\\nContent-Type: text/plain; charset=\"UTF-8\"\\r\\n\\r\\nimport imaplib\\r\\nimport getpass\\r\\nM = imaplib.IMAP4_SSL(\\'imap.gmail.com\\')\\r\\nuser = input(\"Enter your email: \")\\r\\npassword = getpass.getpass(\"Enter your password: \")\\r\\nM.login(user,password)\\r\\n\\r\\n--000000000000cf93c605adc66abc\\r\\nContent-Type: text/html; charset=\"UTF-8\"\\r\\nContent-Transfer-Encoding: quoted-printable\\r\\n\\r\\n<div dir=3D\"ltr\">import imaplib<br>import getpass<br>M =3D imaplib.IMAP4_SS=\\r\\nL(&#39;<a href=3D\"http://imap.gmail.com\">imap.gmail.com</a>&#39;)<br>user =\\r\\n=3D input(&quot;Enter your email: &quot;)<br>password =3D getpass.getpass(&=\\r\\nquot;Enter your password: &quot;)<br>M.login(user,password)<br></div>\\r\\n\\r\\n--000000000000cf93c605adc66abc--'"
      ]
     },
     "execution_count": 33,
     "metadata": {},
     "output_type": "execute_result"
    }
   ],
   "source": [
    "email_data[0][1]"
   ]
  },
  {
   "cell_type": "code",
   "execution_count": 23,
   "metadata": {},
   "outputs": [],
   "source": [
    "raw_email = email_data[0][1]"
   ]
  },
  {
   "cell_type": "code",
   "execution_count": 24,
   "metadata": {},
   "outputs": [],
   "source": [
    "raw_email_string= raw_email.decode('utf-8')"
   ]
  },
  {
   "cell_type": "code",
   "execution_count": 25,
   "metadata": {},
   "outputs": [
    {
     "data": {
      "text/plain": [
       "'MIME-Version: 1.0\\r\\nDate: Wed, 26 Aug 2020 17:19:50 +0530\\r\\nMessage-ID: <CACqXaG57pRC5Be3X8WkqOEaTom=zhG-YD_NwxQ0p52=VDAaaCA@mail.gmail.com>\\r\\nSubject: this is a test email for python\\r\\nFrom: Lohith C S <lohithcs76@gmail.com>\\r\\nTo: Lohith C S <lohithcs76@gmail.com>\\r\\nContent-Type: multipart/alternative; boundary=\"000000000000cf93c605adc66abc\"\\r\\n\\r\\n--000000000000cf93c605adc66abc\\r\\nContent-Type: text/plain; charset=\"UTF-8\"\\r\\n\\r\\nimport imaplib\\r\\nimport getpass\\r\\nM = imaplib.IMAP4_SSL(\\'imap.gmail.com\\')\\r\\nuser = input(\"Enter your email: \")\\r\\npassword = getpass.getpass(\"Enter your password: \")\\r\\nM.login(user,password)\\r\\n\\r\\n--000000000000cf93c605adc66abc\\r\\nContent-Type: text/html; charset=\"UTF-8\"\\r\\nContent-Transfer-Encoding: quoted-printable\\r\\n\\r\\n<div dir=3D\"ltr\">import imaplib<br>import getpass<br>M =3D imaplib.IMAP4_SS=\\r\\nL(&#39;<a href=3D\"http://imap.gmail.com\">imap.gmail.com</a>&#39;)<br>user =\\r\\n=3D input(&quot;Enter your email: &quot;)<br>password =3D getpass.getpass(&=\\r\\nquot;Enter your password: &quot;)<br>M.login(user,password)<br></div>\\r\\n\\r\\n--000000000000cf93c605adc66abc--'"
      ]
     },
     "execution_count": 25,
     "metadata": {},
     "output_type": "execute_result"
    }
   ],
   "source": [
    "raw_email_string"
   ]
  },
  {
   "cell_type": "code",
   "execution_count": 26,
   "metadata": {},
   "outputs": [],
   "source": [
    "import email"
   ]
  },
  {
   "cell_type": "code",
   "execution_count": 27,
   "metadata": {},
   "outputs": [],
   "source": [
    "email_message = email.message_from_string(raw_email_string)"
   ]
  },
  {
   "cell_type": "code",
   "execution_count": 28,
   "metadata": {},
   "outputs": [
    {
     "data": {
      "text/plain": [
       "<email.message.Message at 0x2242c830df0>"
      ]
     },
     "execution_count": 28,
     "metadata": {},
     "output_type": "execute_result"
    }
   ],
   "source": [
    "email_message"
   ]
  },
  {
   "cell_type": "code",
   "execution_count": 29,
   "metadata": {},
   "outputs": [
    {
     "name": "stdout",
     "output_type": "stream",
     "text": [
      "b'import imaplib\\r\\nimport getpass\\r\\nM = imaplib.IMAP4_SSL(\\'imap.gmail.com\\')\\r\\nuser = input(\"Enter your email: \")\\r\\npassword = getpass.getpass(\"Enter your password: \")\\r\\nM.login(user,password)\\r\\n'\n"
     ]
    }
   ],
   "source": [
    "for part in email_message.walk():\n",
    "    if part.get_content_type()==\"text/plain\":\n",
    "        body = part.get_payload(decode= True)\n",
    "        print(body)\n",
    "        "
   ]
  },
  {
   "cell_type": "code",
   "execution_count": 31,
   "metadata": {},
   "outputs": [
    {
     "name": "stdout",
     "output_type": "stream",
     "text": [
      "b'import imaplib\\r\\nimport getpass\\r\\nM = imaplib.IMAP4_SSL(\\'imap.gmail.com\\')\\r\\nuser = input(\"Enter your email: \")\\r\\npassword = getpass.getpass(\"Enter your password: \")\\r\\nM.login(user,password)\\r\\n'\n"
     ]
    }
   ],
   "source": [
    "print(body)"
   ]
  },
  {
   "cell_type": "code",
   "execution_count": null,
   "metadata": {},
   "outputs": [],
   "source": []
  },
  {
   "cell_type": "code",
   "execution_count": null,
   "metadata": {},
   "outputs": [],
   "source": []
  },
  {
   "cell_type": "code",
   "execution_count": null,
   "metadata": {},
   "outputs": [],
   "source": []
  }
 ],
 "metadata": {
  "kernelspec": {
   "display_name": "Python 3",
   "language": "python",
   "name": "python3"
  },
  "language_info": {
   "codemirror_mode": {
    "name": "ipython",
    "version": 3
   },
   "file_extension": ".py",
   "mimetype": "text/x-python",
   "name": "python",
   "nbconvert_exporter": "python",
   "pygments_lexer": "ipython3",
   "version": "3.8.3"
  }
 },
 "nbformat": 4,
 "nbformat_minor": 4
}
