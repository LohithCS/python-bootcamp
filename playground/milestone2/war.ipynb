{
 "cells": [
  {
   "cell_type": "code",
   "execution_count": 32,
   "metadata": {},
   "outputs": [],
   "source": [
    "import random"
   ]
  },
  {
   "cell_type": "code",
   "execution_count": 111,
   "metadata": {},
   "outputs": [],
   "source": [
    "suit=('Hearts','Diamonds','Spades','Clubs')\n",
    "rank=('Two','Three','Four','Five','Six','Seven','Eight','Nine','Ten','Jack','Queen','King','Ace')\n",
    "values= {'Two':2,'Three':3,'Four':4,'Five':5,'Six':6,'Seven':7,'Eight':8,'Nine':9,'Ten':10,'Jack':11,'Queen':12,'King':13,'Ace':14}"
   ]
  },
  {
   "cell_type": "code",
   "execution_count": 112,
   "metadata": {},
   "outputs": [],
   "source": [
    "class Card():\n",
    "    \n",
    "    def __init__(self,suit,rank):\n",
    "        self.suit=suit\n",
    "        self.rank=rank\n",
    "        self.value=values[rank]\n",
    "    \n",
    "    def __str__(self):\n",
    "        return self.rank+' of '+self.suit"
   ]
  },
  {
   "cell_type": "code",
   "execution_count": 3,
   "metadata": {},
   "outputs": [],
   "source": [
    "two_hearts= Card(suit[0],rank[0])"
   ]
  },
  {
   "cell_type": "code",
   "execution_count": 4,
   "metadata": {},
   "outputs": [
    {
     "name": "stdout",
     "output_type": "stream",
     "text": [
      "Two of Hearts\n"
     ]
    }
   ],
   "source": [
    "print(two_hearts)"
   ]
  },
  {
   "cell_type": "code",
   "execution_count": 5,
   "metadata": {},
   "outputs": [
    {
     "data": {
      "text/plain": [
       "2"
      ]
     },
     "execution_count": 5,
     "metadata": {},
     "output_type": "execute_result"
    }
   ],
   "source": [
    "two_hearts.value"
   ]
  },
  {
   "cell_type": "code",
   "execution_count": 6,
   "metadata": {},
   "outputs": [
    {
     "data": {
      "text/plain": [
       "'Two'"
      ]
     },
     "execution_count": 6,
     "metadata": {},
     "output_type": "execute_result"
    }
   ],
   "source": [
    "two_hearts.rank"
   ]
  },
  {
   "cell_type": "code",
   "execution_count": 7,
   "metadata": {},
   "outputs": [
    {
     "data": {
      "text/plain": [
       "'Hearts'"
      ]
     },
     "execution_count": 7,
     "metadata": {},
     "output_type": "execute_result"
    }
   ],
   "source": [
    "two_hearts.suit"
   ]
  },
  {
   "cell_type": "code",
   "execution_count": 8,
   "metadata": {},
   "outputs": [
    {
     "data": {
      "text/plain": [
       "2"
      ]
     },
     "execution_count": 8,
     "metadata": {},
     "output_type": "execute_result"
    }
   ],
   "source": [
    "values[two_hearts.rank]"
   ]
  },
  {
   "cell_type": "code",
   "execution_count": null,
   "metadata": {},
   "outputs": [],
   "source": []
  },
  {
   "cell_type": "code",
   "execution_count": null,
   "metadata": {},
   "outputs": [],
   "source": []
  },
  {
   "cell_type": "code",
   "execution_count": 113,
   "metadata": {},
   "outputs": [],
   "source": [
    "class Deck():\n",
    "    \n",
    "    def __init__(self):\n",
    "        self.all_cards=[]\n",
    "        for s in suit:\n",
    "            for r in rank:\n",
    "                self.all_cards.append(Card(s,r))\n",
    "                \n",
    "    def shuffle(self):\n",
    "        random.shuffle(self.all_cards)\n",
    "    \n",
    "    def deal_one(self):\n",
    "        return self.all_cards.pop()\n",
    "    \n",
    "    def __len__(self):\n",
    "        return( len(self.all_cards))\n",
    "        "
   ]
  },
  {
   "cell_type": "code",
   "execution_count": 79,
   "metadata": {},
   "outputs": [],
   "source": [
    "mydeck= Deck()"
   ]
  },
  {
   "cell_type": "code",
   "execution_count": 80,
   "metadata": {},
   "outputs": [
    {
     "data": {
      "text/plain": [
       "52"
      ]
     },
     "execution_count": 80,
     "metadata": {},
     "output_type": "execute_result"
    }
   ],
   "source": [
    "len(mydeck)"
   ]
  },
  {
   "cell_type": "code",
   "execution_count": 37,
   "metadata": {},
   "outputs": [
    {
     "name": "stdout",
     "output_type": "stream",
     "text": [
      "Two of Hearts\n",
      "Three of Hearts\n",
      "Four of Hearts\n",
      "Five of Hearts\n",
      "Six of Hearts\n",
      "Seven of Hearts\n",
      "Eight of Hearts\n",
      "Nine of Hearts\n",
      "Ten of Hearts\n",
      "Jack of Hearts\n",
      "Queen of Hearts\n",
      "King of Hearts\n",
      "Ace of Hearts\n",
      "Two of Diamonds\n",
      "Three of Diamonds\n",
      "Four of Diamonds\n",
      "Five of Diamonds\n",
      "Six of Diamonds\n",
      "Seven of Diamonds\n",
      "Eight of Diamonds\n",
      "Nine of Diamonds\n",
      "Ten of Diamonds\n",
      "Jack of Diamonds\n",
      "Queen of Diamonds\n",
      "King of Diamonds\n",
      "Ace of Diamonds\n",
      "Two of Spades\n",
      "Three of Spades\n",
      "Four of Spades\n",
      "Five of Spades\n",
      "Six of Spades\n",
      "Seven of Spades\n",
      "Eight of Spades\n",
      "Nine of Spades\n",
      "Ten of Spades\n",
      "Jack of Spades\n",
      "Queen of Spades\n",
      "King of Spades\n",
      "Ace of Spades\n",
      "Two of Clubs\n",
      "Three of Clubs\n",
      "Four of Clubs\n",
      "Five of Clubs\n",
      "Six of Clubs\n",
      "Seven of Clubs\n",
      "Eight of Clubs\n",
      "Nine of Clubs\n",
      "Ten of Clubs\n",
      "Jack of Clubs\n",
      "Queen of Clubs\n",
      "King of Clubs\n",
      "Ace of Clubs\n"
     ]
    }
   ],
   "source": [
    "for i in range(0,52):\n",
    "    \n",
    "    print(mydeck.all_cards[i])"
   ]
  },
  {
   "cell_type": "code",
   "execution_count": 51,
   "metadata": {},
   "outputs": [
    {
     "name": "stdout",
     "output_type": "stream",
     "text": [
      "Jack of Hearts\n"
     ]
    }
   ],
   "source": [
    "print(mydeck.all_cards[9])"
   ]
  },
  {
   "cell_type": "code",
   "execution_count": 66,
   "metadata": {},
   "outputs": [],
   "source": [
    "mycard= mydeck.deal_one()"
   ]
  },
  {
   "cell_type": "code",
   "execution_count": 67,
   "metadata": {},
   "outputs": [
    {
     "name": "stdout",
     "output_type": "stream",
     "text": [
      "King of Clubs\n"
     ]
    }
   ],
   "source": [
    "print(mycard)"
   ]
  },
  {
   "cell_type": "code",
   "execution_count": 68,
   "metadata": {},
   "outputs": [
    {
     "data": {
      "text/plain": [
       "50"
      ]
     },
     "execution_count": 68,
     "metadata": {},
     "output_type": "execute_result"
    }
   ],
   "source": [
    "len(mydeck)"
   ]
  },
  {
   "cell_type": "code",
   "execution_count": 55,
   "metadata": {},
   "outputs": [
    {
     "data": {
      "text/plain": [
       "__main__.Card"
      ]
     },
     "execution_count": 55,
     "metadata": {},
     "output_type": "execute_result"
    }
   ],
   "source": [
    "type(mycard)"
   ]
  },
  {
   "cell_type": "code",
   "execution_count": null,
   "metadata": {},
   "outputs": [],
   "source": []
  },
  {
   "cell_type": "code",
   "execution_count": 114,
   "metadata": {},
   "outputs": [],
   "source": [
    "class Player():\n",
    "    \n",
    "    def __init__(self,name):\n",
    "        self.name=name\n",
    "        self.all_cards=[]\n",
    "        \n",
    "    def remove_one(self):\n",
    "        return self.all_cards.pop(0)\n",
    "        \n",
    "    def add_cards(self,new_cards):\n",
    "        if type(new_cards)==type([]):\n",
    "            self.all_cards.extend(new_cards)\n",
    "        else:\n",
    "            self.all_cards.append(new_cards)\n",
    "    \n",
    "    def __str__(self):\n",
    "        return f'player {self.name} has {len(self.all_cards)} cards'\n",
    "        "
   ]
  },
  {
   "cell_type": "code",
   "execution_count": 85,
   "metadata": {},
   "outputs": [],
   "source": [
    "player1=Player('lohi')"
   ]
  },
  {
   "cell_type": "code",
   "execution_count": 86,
   "metadata": {},
   "outputs": [
    {
     "name": "stdout",
     "output_type": "stream",
     "text": [
      "player lohi has 0 cards\n"
     ]
    }
   ],
   "source": [
    "print(player1)"
   ]
  },
  {
   "cell_type": "code",
   "execution_count": 87,
   "metadata": {},
   "outputs": [],
   "source": [
    "player1.add_cards(Card('Hearts','Two'))"
   ]
  },
  {
   "cell_type": "code",
   "execution_count": 88,
   "metadata": {},
   "outputs": [
    {
     "name": "stdout",
     "output_type": "stream",
     "text": [
      "player lohi has 1 cards\n"
     ]
    }
   ],
   "source": [
    "print(player1)"
   ]
  },
  {
   "cell_type": "code",
   "execution_count": 89,
   "metadata": {},
   "outputs": [
    {
     "name": "stdout",
     "output_type": "stream",
     "text": [
      "Two of Hearts\n"
     ]
    }
   ],
   "source": [
    "print(player1.all_cards[0])"
   ]
  },
  {
   "cell_type": "code",
   "execution_count": 90,
   "metadata": {},
   "outputs": [],
   "source": [
    "player1.add_cards(mycard)"
   ]
  },
  {
   "cell_type": "code",
   "execution_count": 91,
   "metadata": {},
   "outputs": [
    {
     "name": "stdout",
     "output_type": "stream",
     "text": [
      "player lohi has 2 cards\n"
     ]
    }
   ],
   "source": [
    "print(player1)"
   ]
  },
  {
   "cell_type": "code",
   "execution_count": 92,
   "metadata": {},
   "outputs": [
    {
     "name": "stdout",
     "output_type": "stream",
     "text": [
      "King of Clubs\n"
     ]
    }
   ],
   "source": [
    "print(player1.all_cards[1])"
   ]
  },
  {
   "cell_type": "code",
   "execution_count": 93,
   "metadata": {},
   "outputs": [],
   "source": [
    "player1.add_cards([mycard,mycard,mycard])"
   ]
  },
  {
   "cell_type": "code",
   "execution_count": 94,
   "metadata": {},
   "outputs": [
    {
     "name": "stdout",
     "output_type": "stream",
     "text": [
      "Two of Hearts\n",
      "King of Clubs\n",
      "King of Clubs\n",
      "King of Clubs\n",
      "King of Clubs\n"
     ]
    }
   ],
   "source": [
    "for i in (player1.all_cards):\n",
    "    print(i)"
   ]
  },
  {
   "cell_type": "code",
   "execution_count": 95,
   "metadata": {},
   "outputs": [],
   "source": [
    "player1.add_cards(mydeck.all_cards)"
   ]
  },
  {
   "cell_type": "code",
   "execution_count": 96,
   "metadata": {},
   "outputs": [
    {
     "name": "stdout",
     "output_type": "stream",
     "text": [
      "player lohi has 57 cards\n"
     ]
    }
   ],
   "source": [
    "print(player1)"
   ]
  },
  {
   "cell_type": "code",
   "execution_count": 97,
   "metadata": {},
   "outputs": [
    {
     "name": "stdout",
     "output_type": "stream",
     "text": [
      "Two of Hearts\n",
      "King of Clubs\n",
      "King of Clubs\n",
      "King of Clubs\n",
      "King of Clubs\n",
      "Two of Hearts\n",
      "Three of Hearts\n",
      "Four of Hearts\n",
      "Five of Hearts\n",
      "Six of Hearts\n",
      "Seven of Hearts\n",
      "Eight of Hearts\n",
      "Nine of Hearts\n",
      "Ten of Hearts\n",
      "Jack of Hearts\n",
      "Queen of Hearts\n",
      "King of Hearts\n",
      "Ace of Hearts\n",
      "Two of Diamonds\n",
      "Three of Diamonds\n",
      "Four of Diamonds\n",
      "Five of Diamonds\n",
      "Six of Diamonds\n",
      "Seven of Diamonds\n",
      "Eight of Diamonds\n",
      "Nine of Diamonds\n",
      "Ten of Diamonds\n",
      "Jack of Diamonds\n",
      "Queen of Diamonds\n",
      "King of Diamonds\n",
      "Ace of Diamonds\n",
      "Two of Spades\n",
      "Three of Spades\n",
      "Four of Spades\n",
      "Five of Spades\n",
      "Six of Spades\n",
      "Seven of Spades\n",
      "Eight of Spades\n",
      "Nine of Spades\n",
      "Ten of Spades\n",
      "Jack of Spades\n",
      "Queen of Spades\n",
      "King of Spades\n",
      "Ace of Spades\n",
      "Two of Clubs\n",
      "Three of Clubs\n",
      "Four of Clubs\n",
      "Five of Clubs\n",
      "Six of Clubs\n",
      "Seven of Clubs\n",
      "Eight of Clubs\n",
      "Nine of Clubs\n",
      "Ten of Clubs\n",
      "Jack of Clubs\n",
      "Queen of Clubs\n",
      "King of Clubs\n",
      "Ace of Clubs\n"
     ]
    }
   ],
   "source": [
    "for i in (player1.all_cards):\n",
    "    print(i)"
   ]
  },
  {
   "cell_type": "code",
   "execution_count": 103,
   "metadata": {},
   "outputs": [
    {
     "name": "stdout",
     "output_type": "stream",
     "text": [
      "Two of Hearts\n"
     ]
    }
   ],
   "source": [
    "print(player1.remove_one())"
   ]
  },
  {
   "cell_type": "code",
   "execution_count": 104,
   "metadata": {},
   "outputs": [
    {
     "name": "stdout",
     "output_type": "stream",
     "text": [
      "player lohi has 51 cards\n"
     ]
    }
   ],
   "source": [
    "print(player1)"
   ]
  },
  {
   "cell_type": "code",
   "execution_count": null,
   "metadata": {},
   "outputs": [],
   "source": []
  },
  {
   "cell_type": "code",
   "execution_count": null,
   "metadata": {},
   "outputs": [],
   "source": []
  },
  {
   "cell_type": "code",
   "execution_count": 141,
   "metadata": {},
   "outputs": [],
   "source": [
    "player_one= Player('One')\n",
    "player_two= Player('Two')\n",
    "\n",
    "new_deck= Deck()\n",
    "new_deck.shuffle()\n",
    "\n",
    "for i in range(26):\n",
    "    player_one.add_cards(new_deck.deal_one())\n",
    "    player_two.add_cards(new_deck.deal_one())\n",
    "    "
   ]
  },
  {
   "cell_type": "code",
   "execution_count": 124,
   "metadata": {},
   "outputs": [
    {
     "name": "stdout",
     "output_type": "stream",
     "text": [
      "player One has 26 cards\n",
      "player Two has 26 cards\n"
     ]
    }
   ],
   "source": [
    "print(player_one)\n",
    "print(player_two)"
   ]
  },
  {
   "cell_type": "code",
   "execution_count": 125,
   "metadata": {},
   "outputs": [
    {
     "data": {
      "text/plain": [
       "26"
      ]
     },
     "execution_count": 125,
     "metadata": {},
     "output_type": "execute_result"
    }
   ],
   "source": [
    "len(player_one.all_cards)"
   ]
  },
  {
   "cell_type": "code",
   "execution_count": 126,
   "metadata": {},
   "outputs": [
    {
     "name": "stdout",
     "output_type": "stream",
     "text": [
      "Five of Clubs\n",
      "Two of Hearts\n",
      "Queen of Diamonds\n",
      "Four of Spades\n",
      "Four of Diamonds\n",
      "Five of Spades\n",
      "Nine of Clubs\n",
      "Queen of Clubs\n",
      "King of Diamonds\n",
      "Nine of Hearts\n",
      "Jack of Clubs\n",
      "Six of Hearts\n",
      "Eight of Spades\n",
      "Six of Clubs\n",
      "Ten of Hearts\n",
      "Jack of Spades\n",
      "King of Clubs\n",
      "Eight of Clubs\n",
      "Nine of Diamonds\n",
      "Four of Clubs\n",
      "King of Spades\n",
      "Three of Clubs\n",
      "Queen of Hearts\n",
      "Five of Diamonds\n",
      "Six of Spades\n",
      "Ten of Diamonds\n"
     ]
    }
   ],
   "source": [
    "for i in range(26):\n",
    "    print(player_one.all_cards[i])\n"
   ]
  },
  {
   "cell_type": "code",
   "execution_count": 142,
   "metadata": {},
   "outputs": [
    {
     "name": "stdout",
     "output_type": "stream",
     "text": [
      "Round 1 \n",
      "Round 2 \n",
      "Round 3 \n",
      "Round 4 \n",
      "Round 5 \n",
      "Round 6 \n",
      "Round 7 \n",
      "Round 8 \n",
      "Round 9 \n",
      "Round 10 \n",
      "Round 11 \n",
      "Round 12 \n",
      "Round 13 \n",
      "Round 14 \n",
      "Round 15 \n",
      "Round 16 \n",
      "Round 17 \n",
      "Round 18 \n",
      "Round 19 \n",
      "Round 20 \n",
      "Round 21 \n",
      "Round 22 \n",
      "Round 23 \n",
      "Round 24 \n",
      "Round 25 \n",
      "Round 26 \n",
      "Round 27 \n",
      "Round 28 \n",
      "Round 29 \n",
      "Round 30 \n",
      "Round 31 \n",
      "Round 32 \n",
      "Round 33 \n",
      "Round 34 \n",
      "Round 35 \n",
      "Round 36 \n",
      "Round 37 \n",
      "Round 38 \n",
      "Round 39 \n",
      "Round 40 \n",
      "Round 41 \n",
      "Round 42 \n",
      "Round 43 \n",
      "Round 44 \n",
      "Round 45 \n",
      "Round 46 \n",
      "Round 47 \n",
      "Round 48 \n",
      "Round 49 \n",
      "Round 50 \n",
      "Round 51 \n",
      "Round 52 \n",
      "Round 53 \n",
      "Round 54 \n",
      "Round 55 \n",
      "Round 56 \n",
      "Round 57 \n",
      "Round 58 \n",
      "Round 59 \n",
      "Round 60 \n",
      "Round 61 \n",
      "Round 62 \n",
      "Round 63 \n",
      "Round 64 \n",
      "Round 65 \n",
      "Round 66 \n",
      "Round 67 \n",
      "Round 68 \n",
      "Round 69 \n",
      "Round 70 \n",
      "Round 71 \n",
      "Round 72 \n",
      "Round 73 \n",
      "Round 74 \n",
      "Round 75 \n",
      "Round 76 \n",
      "Round 77 \n",
      "Round 78 \n",
      "Round 79 \n",
      "Round 80 \n",
      "Round 81 \n",
      "Round 82 \n",
      "Round 83 \n",
      "Round 84 \n",
      "Round 85 \n",
      "Round 86 \n",
      "Round 87 \n",
      "Round 88 \n",
      "Round 89 \n",
      "Round 90 \n",
      "Round 91 \n",
      "Round 92 \n",
      "Round 93 \n",
      "Round 94 \n",
      "Round 95 \n",
      "Round 96 \n",
      "Round 97 \n",
      "Round 98 \n",
      "Round 99 \n",
      "Round 100 \n",
      "Round 101 \n",
      "Round 102 \n",
      "Round 103 \n",
      "Round 104 \n",
      "Round 105 \n",
      "Round 106 \n",
      "Round 107 \n",
      "Round 108 \n",
      "Round 109 \n",
      "Round 110 \n",
      "Round 111 \n",
      "Round 112 \n",
      "Round 113 \n",
      "Round 114 \n",
      "Round 115 \n",
      "player 2 is out of cards\n",
      "player 1 won the game\n"
     ]
    }
   ],
   "source": [
    "game_on = True\n",
    "\n",
    "round_num = 0\n",
    "while game_on:\n",
    "    \n",
    "    round_num+=1\n",
    "    \n",
    "    print(f'Round {round_num} ')\n",
    "    \n",
    "    if( len(player_one.all_cards)==0):\n",
    "        print('player 1 is out of cards.')\n",
    "        print('player 2 won the game')\n",
    "        game_on= False\n",
    "        break\n",
    "    \n",
    "    if( len(player_two.all_cards)==0):\n",
    "        print('player 2 is out of cards')\n",
    "        print('player 1 won the game')\n",
    "        game_on= False\n",
    "        break\n",
    "        \n",
    "    player_one_cards=[]\n",
    "    player_one_cards.append(player_one.remove_one())\n",
    "    \n",
    "    player_two_cards=[]\n",
    "    player_two_cards.append(player_two.remove_one())\n",
    "        \n",
    "    at_war=True\n",
    "    \n",
    "    while at_war:\n",
    "        \n",
    "        if player_one_cards[-1].value > player_two_cards[-1].value :\n",
    "            player_one.add_cards(player_one_cards)\n",
    "            player_one.add_cards(player_two_cards)\n",
    "            \n",
    "            at_war= False\n",
    "            \n",
    "        elif player_one_cards[-1].value < player_two_cards[-1].value:\n",
    "            player_two.add_cards(player_two_cards)\n",
    "            player_two.add_cards(player_one_cards)\n",
    "            \n",
    "            at_war= False\n",
    "            \n",
    "        else:\n",
    "            if len(player_one.all_cards)< 3:\n",
    "                print('player 1 is unable to play war, game over at war!')\n",
    "                print('player 2 wins the war')\n",
    "                game_on = False\n",
    "                break\n",
    "                \n",
    "            elif len(player_two.all_cards)<3:\n",
    "                print('player 2 is unable to play war, game over at war')\n",
    "                print('player 1 wins the war')\n",
    "                game_on = False\n",
    "                break\n",
    "            \n",
    "            else:\n",
    "                for i in range(3):\n",
    "                    player_one_cards.append(player_one.remove_one())\n",
    "                    player_two_cards.append(player_two.remove_one())\n",
    "            \n",
    "                \n",
    "    "
   ]
  },
  {
   "cell_type": "code",
   "execution_count": null,
   "metadata": {},
   "outputs": [],
   "source": []
  },
  {
   "cell_type": "code",
   "execution_count": 3,
   "metadata": {},
   "outputs": [
    {
     "name": "stdout",
     "output_type": "stream",
     "text": [
      "Round 1 \n",
      "Round 2 \n",
      "Round 3 \n",
      "Round 4 \n",
      "Round 5 \n",
      "Round 6 \n",
      "Round 7 \n",
      "Round 8 \n",
      "Round 9 \n",
      "Round 10 \n",
      "Round 11 \n",
      "Round 12 \n",
      "Round 13 \n",
      "Round 14 \n",
      "Round 15 \n",
      "war!\n",
      "Round 16 \n",
      "Round 17 \n",
      "Round 18 \n",
      "Round 19 \n",
      "Round 20 \n",
      "Round 21 \n",
      "Round 22 \n",
      "war!\n",
      "war!\n",
      "Round 23 \n",
      "Round 24 \n",
      "Round 25 \n",
      "Round 26 \n",
      "Round 27 \n",
      "Round 28 \n",
      "Round 29 \n",
      "Round 30 \n",
      "Round 31 \n",
      "Round 32 \n",
      "Round 33 \n",
      "Round 34 \n",
      "Round 35 \n",
      "Round 36 \n",
      "war!\n",
      "Round 37 \n",
      "Round 38 \n",
      "war!\n",
      "Round 39 \n",
      "Round 40 \n",
      "Round 41 \n",
      "Round 42 \n",
      "Round 43 \n",
      "Round 44 \n",
      "Round 45 \n",
      "Round 46 \n",
      "Round 47 \n",
      "Round 48 \n",
      "Round 49 \n",
      "Round 50 \n",
      "Round 51 \n",
      "Round 52 \n",
      "Round 53 \n",
      "war!\n",
      "Round 54 \n",
      "Round 55 \n",
      "Round 56 \n",
      "war!\n",
      "Round 57 \n",
      "Round 58 \n",
      "Round 59 \n",
      "Round 60 \n",
      "Round 61 \n",
      "Round 62 \n",
      "Round 63 \n",
      "Round 64 \n",
      "Round 65 \n",
      "Round 66 \n",
      "Round 67 \n",
      "Round 68 \n",
      "Round 69 \n",
      "Round 70 \n",
      "Round 71 \n",
      "Round 72 \n",
      "Round 73 \n",
      "Round 74 \n",
      "Round 75 \n",
      "Round 76 \n",
      "Round 77 \n",
      "Round 78 \n",
      "Round 79 \n",
      "Round 80 \n",
      "Round 81 \n",
      "Round 82 \n",
      "Round 83 \n",
      "Round 84 \n",
      "Round 85 \n",
      "Round 86 \n",
      "Round 87 \n",
      "Round 88 \n",
      "Round 89 \n",
      "Round 90 \n",
      "Round 91 \n",
      "Round 92 \n",
      "Round 93 \n",
      "Round 94 \n",
      "Round 95 \n",
      "Round 96 \n",
      "Round 97 \n",
      "Round 98 \n",
      "war!\n",
      "Round 99 \n",
      "Round 100 \n",
      "Round 101 \n",
      "Round 102 \n",
      "Round 103 \n",
      "Round 104 \n",
      "Round 105 \n",
      "Round 106 \n",
      "Round 107 \n",
      "Round 108 \n",
      "Round 109 \n",
      "Round 110 \n",
      "Round 111 \n",
      "Round 112 \n",
      "Round 113 \n",
      "Round 114 \n",
      "Round 115 \n",
      "Round 116 \n",
      "Round 117 \n",
      "Round 118 \n",
      "Round 119 \n",
      "Round 120 \n",
      "Round 121 \n",
      "Round 122 \n",
      "Round 123 \n",
      "Round 124 \n",
      "Round 125 \n",
      "Round 126 \n",
      "Round 127 \n",
      "Round 128 \n",
      "war!\n",
      "Round 129 \n",
      "war!\n",
      "war!\n",
      "player 2 is unable to play war, game over at war\n",
      "player 1 wins the war\n"
     ]
    }
   ],
   "source": [
    "import random\n",
    "suit=('Hearts','Diamonds','Spades','Clubs')\n",
    "rank=('Two','Three','Four','Five','Six','Seven','Eight','Nine','Ten','Jack','Queen','King','Ace')\n",
    "values= {'Two':2,'Three':3,'Four':4,'Five':5,'Six':6,'Seven':7,'Eight':8,'Nine':9,'Ten':10,'Jack':11,'Queen':12,'King':13,'Ace':14}\n",
    "\n",
    "class Card():\n",
    "    \n",
    "    def __init__(self,suit,rank):\n",
    "        self.suit=suit\n",
    "        self.rank=rank\n",
    "        self.value=values[rank]\n",
    "    \n",
    "    def __str__(self):\n",
    "        return self.rank+' of '+self.suit\n",
    "    \n",
    "    \n",
    "class Deck():\n",
    "    \n",
    "    def __init__(self):\n",
    "        self.all_cards=[]\n",
    "        for s in suit:\n",
    "            for r in rank:\n",
    "                self.all_cards.append(Card(s,r))\n",
    "                \n",
    "    def shuffle(self):\n",
    "        random.shuffle(self.all_cards)\n",
    "    \n",
    "    def deal_one(self):\n",
    "        return self.all_cards.pop()\n",
    "    \n",
    "    def __len__(self):\n",
    "        return( len(self.all_cards))\n",
    "\n",
    "class Player():\n",
    "    \n",
    "    def __init__(self,name):\n",
    "        self.name=name\n",
    "        self.all_cards=[]\n",
    "        \n",
    "    def remove_one(self):\n",
    "        return self.all_cards.pop(0)\n",
    "        \n",
    "    def add_cards(self,new_cards):\n",
    "        if type(new_cards)==type([]):\n",
    "            self.all_cards.extend(new_cards)\n",
    "        else:\n",
    "            self.all_cards.append(new_cards)\n",
    "    \n",
    "    def __str__(self):\n",
    "        return f'player {self.name} has {len(self.all_cards)} cards'\n",
    "    \n",
    "    \n",
    "if __name__=='__main__':\n",
    "\n",
    "    player_one= Player('One')\n",
    "    player_two= Player('Two')\n",
    "    \n",
    "    new_deck= Deck()\n",
    "    new_deck.shuffle()\n",
    "    \n",
    "    for i in range(26):\n",
    "        player_one.add_cards(new_deck.deal_one())\n",
    "        player_two.add_cards(new_deck.deal_one())\n",
    "    \n",
    "    game_on = True\n",
    "    \n",
    "    round_num = 0\n",
    "    while game_on:\n",
    "        \n",
    "        round_num+=1\n",
    "        \n",
    "        print(f'Round {round_num} ')\n",
    "        \n",
    "        if( len(player_one.all_cards)==0):\n",
    "            print('player 1 is out of cards.')\n",
    "            print('player 2 won the game')\n",
    "            game_on= False\n",
    "            break\n",
    "        \n",
    "        if( len(player_two.all_cards)==0):\n",
    "            print('player 2 is out of cards')\n",
    "            print('player 1 won the game')\n",
    "            game_on= False\n",
    "            break\n",
    "            \n",
    "        player_one_cards=[]\n",
    "        player_one_cards.append(player_one.remove_one())\n",
    "        \n",
    "        player_two_cards=[]\n",
    "        player_two_cards.append(player_two.remove_one())\n",
    "            \n",
    "        at_war=True\n",
    "        \n",
    "        while at_war:\n",
    "            \n",
    "            if player_one_cards[-1].value > player_two_cards[-1].value :\n",
    "                player_one.add_cards(player_one_cards)\n",
    "                player_one.add_cards(player_two_cards)\n",
    "                \n",
    "                at_war= False\n",
    "                \n",
    "            elif player_one_cards[-1].value < player_two_cards[-1].value:\n",
    "                player_two.add_cards(player_two_cards)\n",
    "                player_two.add_cards(player_one_cards)\n",
    "                \n",
    "                at_war= False\n",
    "                \n",
    "            else:\n",
    "                \n",
    "                print('war!')\n",
    "                \n",
    "                if len(player_one.all_cards)< 5:\n",
    "                    print('player 1 is unable to play war, game over at war!')\n",
    "                    print('player 2 wins the war')\n",
    "                    game_on = False\n",
    "                    break\n",
    "                    \n",
    "                elif len(player_two.all_cards)<5:\n",
    "                    print('player 2 is unable to play war, game over at war')\n",
    "                    print('player 1 wins the war')\n",
    "                    game_on = False\n",
    "                    break\n",
    "                \n",
    "                else:\n",
    "                    for i in range(5):\n",
    "                        player_one_cards.append(player_one.remove_one())\n",
    "                        player_two_cards.append(player_two.remove_one())\n",
    "                \n",
    "                    \n",
    "        "
   ]
  },
  {
   "cell_type": "code",
   "execution_count": null,
   "metadata": {},
   "outputs": [],
   "source": []
  }
 ],
 "metadata": {
  "kernelspec": {
   "display_name": "Python 3",
   "language": "python",
   "name": "python3"
  },
  "language_info": {
   "codemirror_mode": {
    "name": "ipython",
    "version": 3
   },
   "file_extension": ".py",
   "mimetype": "text/x-python",
   "name": "python",
   "nbconvert_exporter": "python",
   "pygments_lexer": "ipython3",
   "version": "3.8.3"
  }
 },
 "nbformat": 4,
 "nbformat_minor": 4
}
